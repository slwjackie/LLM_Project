{
 "cells": [
  {
   "cell_type": "markdown",
   "metadata": {},
   "source": [
    "# No.1 accuracy in multiform table extraction \n",
    "- Convert documents to maximize RAG performance \n",
    "- LangChain provides powerful tools for text splitting and vectorization\n",
    "\n",
    "\n",
    "![Layout Analyzer](./figures/la.png)"
   ]
  },
  {
   "cell_type": "code",
   "execution_count": 1,
   "metadata": {},
   "outputs": [],
   "source": [
    "! pip3 install -qU  markdownify  langchain-upstage  requests"
   ]
  },
  {
   "cell_type": "code",
   "execution_count": 2,
   "metadata": {},
   "outputs": [],
   "source": [
    "\n",
    "%load_ext dotenv\n",
    "%dotenv\n",
    "# UPSTAGE_API_KEY"
   ]
  },
  {
   "cell_type": "code",
   "execution_count": 3,
   "metadata": {},
   "outputs": [],
   "source": [
    "import warnings\n",
    "\n",
    "warnings.filterwarnings(\"ignore\")"
   ]
  },
  {
   "cell_type": "markdown",
   "metadata": {},
   "source": [
    "![Layout Analyzer](./figures/solar_sample.png)"
   ]
  },
  {
   "cell_type": "code",
   "execution_count": 6,
   "metadata": {},
   "outputs": [],
   "source": [
    "from langchain_upstage import UpstageLayoutAnalysisLoader\n",
    "\n",
    "\n",
    "layzer = UpstageLayoutAnalysisLoader(\"pdfs/OSHA.pdf\", output_type=\"html\")\n",
    "# For improved memory efficiency, consider using the lazy_load method to load documents page by page.\n",
    "docs = layzer.load()"
   ]
  },
  {
   "cell_type": "code",
   "execution_count": 7,
   "metadata": {},
   "outputs": [
    {
     "data": {
      "text/html": [
       "<p id='0' style='font-size:14px'>연구보고서</p><p id='1' style='font-size:20px'>해외</p><br><p id='2' style='font-size:20px'>중대재해 처벌에 관한</p><br><p id='3' style='font-size:20px'>사례 분석</p><p id='4' style='font-size:16px'>김혜경·이진국·도중진·차종진</p><p id='5' style='font-size:20px'>제 출 문</p><p id='6' style='font-size:18px'>산업안전보건연구원장 귀하</p><p id='7' style='font-size:18px'>본 보고서를 “해외 중대재해 처벌에 관한 사례 분석” 연구</p><br><p id='8' style='font-size:18px'>과제의 최종보고서로 제출합니다.</p><p id='9' style='font-size:18px'>2022년 10월</p><p id='10' style='font-size:16px'>연구진</p><br><p id='11' style='font-size:14px'>연구기관 : 계명대학교 산학협력단</p><br><p id='12' style='font-size:14px'>연구책임자 :</p><br><p id='13' style='font-size:14px'>김혜경 (교수, 계명대학교)</p><br><p id='14' style='font-size:14px'>공동연구원 : 이진국 (교수, 아주대학교 법학전문대학원)</p><br><p id='15' style='font-size:14px'>: 도중진 (교수, 충남대학교)</p><br><p id='16' style='font-size:14px'>공동연구원</p><br><p id='17' style='font-size:14px'>공동연구원</p><br><p id='18' style='font-size:14px'>: 차종진 (연구관, 치안정책연구소)</p><p id='19' style='font-size:22px'>요약문</p><p id='20' style='font-size:14px'>연구기간 2022년</p><br><p id='21' style='font-size:14px'>l 04월 ~ 2022년 10월</p><br><p id='22' style='font-size:14px'>l 핵심단어 중대재해처벌법, 산업안전보건법, 기업과실치사죄, 작업장 과실치사죄</p><br><p id='23' style='font-size:16px'>l</p><p id='24' style='font-size:20px'>1.</p><br><p id='25' style='font-size:18px'>연구과제명 해외 중대재해 처벌에 관한 사례 분석<br>연구의 개요</p><p id='26' style='font-size:14px'>우리 사회는 이미 2014년 세월호 사건, 2018년 한국서부발전 태안화력발</p><br><p id='27' style='font-size:14px'>전소 사망사건, 현대중공업 아르곤 가스 질식 사망사고, 물류창고 건설현장</p><br><p id='28' style='font-size:14px'>화재사고,</p><br><p id='29' style='font-size:14px'>및</p><br><p id='30' style='font-size:14px'>건들을</p><br><p id='31' style='font-size:14px'>회적</p><br><p id='32' style='font-size:14px'>등을</p><br><p id='33' style='font-size:14px'>2021년</p><br><p id='34' style='font-size:14px'>도</p><br><p id='35' style='font-size:14px'>로</p><br><p id='36' style='font-size:14px'>은</p><br><p id='37' style='font-size:14px'>남</p><br><p id='38' style='font-size:14px'>여수</p><br><p id='39' style='font-size:14px'>업체</p><br><p id='40' style='font-size:14px'>사가</p><p id='41' style='font-size:14px'>기에</p><br><p id='42' style='font-size:14px'>벌법의</p><br><p id='43' style='font-size:14px'>가습기 살균제 사건 등 기업에 의한 다중인명사상의 사회적 참사<br>산업재해, 기업의 비윤리적 활동을 통한 이익창출 등 그 피해가 막대한 사<br>겪어오면서 중대산업재해 및 중대시민재해에 대한 미흡한 대응이 사<br>문제로 대두되어 왔음은 주지의 사실이다. 이에 기업에 의한 인명사고<br>예방하고 이를 처벌하기 위하여 ‘중대재해 처벌 등에 관한 법률’이<br>1월 26일 공포되었고, 2022년 1월 27일부터 시행되고 있다. 그럼에<br>불구하고 중대재해처벌법의 시행 목전에 발생한 광주 아파트 붕괴사건으<br>작업장 안전에 대한 국민의 이목이 집중되었고, 시행한 지 얼마 지나지 않<br>시점에서 ⅰ) 3명이 사망한 양주 채석장 붕괴사건, ⅱ) 2명이 추락사한 성<br>판교 신축건물 승강기 설치 사건, ⅲ) 4명이 사망하고 4명이 상해를 입은<br>공장 폭발사건, ⅳ) 16명의 급성중독자가 발생한 창원 에어컨 부품 제조<br>사건, ⅴ) 1명의 노동자가 추락사한 동해공장 사건, ⅵ) 1명의 굴착기 기<br>사망한 제주 소재 대학교 신축 공사장 사건 등에 대한 중대재해처벌법의<br>적용여부에 국민의 귀추가 쏠리는 있는 상황이다. 중대재해처벌법의 시행초<br>있고, 실효적인 법적용이 정착되지 않은 과도기적 상황에서 중대재해처<br>현장에의 적용의 혼란을 최소화하기 위하여 이미 중대재해처벌법과<br>i</p><p id='44' style='font-size:14px'>해외 중대재해 처벌에 관한 사례 분석</p><p id='45' style='font-size:16px'>유사한 법제도를 운영하고 있는 국가의 입법례와 적용례에 관하여 구체적인</p><br><p id='46' style='font-size:16px'>사례 분석을 통하여 면밀히 검토하고 향후 우리나라 중대재해처벌법의 실효</p><br><p id='47' style='font-size:16px'>적 시행을 위한 시사점을 도출할 필요가 있다. 본 연구는 중대재해범죄와 관</p><br><p id='48' style='font-size:16px'>련한</p><br><p id='49' style='font-size:16px'>한</p><br><p id='50' style='font-size:16px'>하는</p><p id='51' style='font-size:22px'>2.</p><br><p id='52' style='font-size:18px'>선진 입법례와 사례, 특히 영국, 독일, 캐나다, 호주의 처벌사례를 면밀<br>비교·분석하여 향후 중대범죄처벌법 적용에 있어 유의미한 시사점을 도출<br>것을 목적으로 한다.<br>주요 연구내용</p><p id='53' style='font-size:16px'>본 연구는 비교법적 연구의 대상으로 영국, 독일, 캐나다 및 호주를 선정하</p><br><p id='54' style='font-size:16px'>였고, 각 국의 중대재해발생 현황 및 법적조치 현황, 중대재해처벌법제 현황,</p><br><p id='55' style='font-size:16px'>중대재해 관련 판례를 선정하여 비교·분석하여 시사점을 도출하고 있다. 비교</p><br><p id='56' style='font-size:16px'>분석의</p><br><p id='57' style='font-size:18px'>내용을 요약하면 아래와 같다.<br>각국의 처벌 방식에 관한 개괄적 비교</p><br><p id='58' style='font-size:20px'>1)</p><p id='59' style='font-size:16px'>먼저 영국은 우선 영국은 2007년 기업과실치사법이 제정된 이후 2022년</p><br><p id='60' style='font-size:16px'>현재까지 1심 Crown Court에서</p><br><p id='61' style='font-size:16px'>대법원판결은 없다. 영국의 형사사법체계상</p><br><p id='62' style='font-size:16px'>유죄인정(Guilty Plea)를 하게 되면, 유죄인정협상에 따라서 유무죄 판단 없</p><br><p id='63' style='font-size:16px'>이</p><br><p id='64' style='font-size:16px'>않은</p><br><p id='65' style='font-size:16px'>는</p><br><p id='66' style='font-size:16px'>상이라고</p><br><p id='67' style='font-size:16px'>을</p><br><p id='68' style='font-size:16px'>에</p><br><p id='69' style='font-size:16px'>로</p><br><p id='70' style='font-size:16px'>을</p><br><p id='71' style='font-size:16px'>양형만 고려하게 되므로 항소 자체가 거의 없다. 1심에서 유죄를 인정하지<br>사건에 대하여 1심 및 항소심에서 무죄판결 또는 유죄판결을 받는 경우<br>매우 드물게 있어서, 항소심 자체도 거의 없고, 1심 판결이 거의 95% 이<br>파악된다. 또한 양형위원회는 2016년 2월 1일부터 최종 선고지침<br>발표하여 기업살인 및 과실치사에 대한 양형기준을 정비하였다. 기업범죄<br>대하여 ‘상한 없는 벌금’을 입법화하였기 때문에, 실제 이를 어떠한 기준으<br>적용할 것인지에 관하여 양형위원회 역시 보다 구체적이고 합리적인 기준<br>제시한 것이다. 영국은 산업현장에서의 근로자 사망사건에 대하여 입법을</p><br><p id='72"
      ],
      "text/plain": [
       "<IPython.core.display.HTML object>"
      ]
     },
     "metadata": {},
     "output_type": "display_data"
    }
   ],
   "source": [
    "from IPython.display import display, HTML\n",
    "\n",
    "display(HTML(docs[0].page_content[:5000]))"
   ]
  },
  {
   "cell_type": "code",
   "execution_count": 4,
   "metadata": {},
   "outputs": [],
   "source": [
    "from langchain_core.prompts import PromptTemplate\n",
    "from langchain_core.output_parsers import StrOutputParser\n",
    "from langchain_upstage import ChatUpstage\n",
    "\n",
    "\n",
    "llm = ChatUpstage()\n",
    "\n",
    "prompt_template = PromptTemplate.from_template(\n",
    "    \"\"\"\n",
    "    Please provide most correct answer from the following context. \n",
    "    Think step by step and look the html tags and table values carefully to provide the most correct answer.\n",
    "    If the answer is not present in the context, please write \"The information is not present in the context.\"\n",
    "    ---\n",
    "    Question: {question}\n",
    "    ---\n",
    "    Context: {Context}\n",
    "    \"\"\"\n",
    ")\n",
    "chain = prompt_template | llm | StrOutputParser()"
   ]
  },
  {
   "cell_type": "code",
   "execution_count": 5,
   "metadata": {},
   "outputs": [
    {
     "data": {
      "text/plain": [
       "'Table 2 is not present in the given context.'"
      ]
     },
     "execution_count": 5,
     "metadata": {},
     "output_type": "execute_result"
    }
   ],
   "source": [
    "chain.invoke({\"question\": \"Explain Table 2?\", \"Context\": docs})"
   ]
  },
  {
   "cell_type": "code",
   "execution_count": 8,
   "metadata": {},
   "outputs": [
    {
     "data": {
      "text/plain": [
       "'The MMLU scores of SOLAR 10.7B is 65.48.'"
      ]
     },
     "execution_count": 8,
     "metadata": {},
     "output_type": "execute_result"
    }
   ],
   "source": [
    "chain.invoke({\"question\": \"What is MMLU scores of SOLAR 10.7B?\", \"Context\": docs})"
   ]
  },
  {
   "cell_type": "code",
   "execution_count": 9,
   "metadata": {},
   "outputs": [
    {
     "data": {
      "text/plain": [
       "'MMLU scores of Mistral 7B-Instruct-v0.2 is 60.78.'"
      ]
     },
     "execution_count": 9,
     "metadata": {},
     "output_type": "execute_result"
    }
   ],
   "source": [
    "chain.invoke({\"question\": \"What is MMLU scores of Mistral 7B-Instruct-v0.2?\", \"Context\": docs})"
   ]
  },
  {
   "cell_type": "markdown",
   "metadata": {},
   "source": [
    "# Excercise \n",
    "Sometimes, even if we provide a table in Markdown or HTML format, the Large Language Model (LLM) may not extract the information correctly. How can you fix this issue?\n",
    "\n",
    "Hint: Consider using CoT, a few-shot learning approach or a divide and conquer strategy. \n"
   ]
  },
  {
   "cell_type": "markdown",
   "metadata": {},
   "source": []
  }
 ],
 "metadata": {
  "kernelspec": {
   "display_name": ".venv",
   "language": "python",
   "name": "python3"
  },
  "language_info": {
   "codemirror_mode": {
    "name": "ipython",
    "version": 3
   },
   "file_extension": ".py",
   "mimetype": "text/x-python",
   "name": "python",
   "nbconvert_exporter": "python",
   "pygments_lexer": "ipython3",
   "version": "3.11.7"
  }
 },
 "nbformat": 4,
 "nbformat_minor": 2
}
