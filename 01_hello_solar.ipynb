{
 "cells": [
  {
   "cell_type": "code",
   "execution_count": 1,
   "metadata": {},
   "outputs": [],
   "source": [
    "! pip3 install -qU langchain-upstage  requests python-dotenv"
   ]
  },
  {
   "cell_type": "markdown",
   "metadata": {},
   "source": [
    "## UPSTAGE_API_KEY\n",
    "To obtain your Upstage API key, follow these steps:\n",
    "\n",
    "1. Visit the Upstage AI console at <https://console.upstage.ai>.\n",
    "2. Sign up for an account if you don't already have one.\n",
    "3. Log in to your account.\n",
    "4. Navigate to the API key section.\n",
    "5. Generate your API key.\n",
    "6. Copy the key and save it securely.\n",
    "\n",
    "![Console](./figures/console.upstage.ai.jpg)"
   ]
  },
  {
   "cell_type": "code",
   "execution_count": 2,
   "metadata": {},
   "outputs": [],
   "source": [
    "\n",
    "%load_ext dotenv\n",
    "%dotenv\n",
    "# set UPSTAGE_API_KEY in .env file\n",
    "# UPSTAGE_API_KEY=your_api_key"
   ]
  },
  {
   "cell_type": "code",
   "execution_count": 3,
   "metadata": {},
   "outputs": [],
   "source": [
    "import warnings\n",
    "\n",
    "warnings.filterwarnings(\"ignore\")"
   ]
  },
  {
   "cell_type": "code",
   "execution_count": 4,
   "metadata": {},
   "outputs": [
    {
     "name": "stdout",
     "output_type": "stream",
     "text": [
      "('In a galaxy far, far away, there was a small planet called Zephyria. This '\n",
      " 'planet was home to many different species, each with their own unique '\n",
      " 'abilities and cultures. The planet was known for its peaceful atmosphere and '\n",
      " 'its inhabitants were known for their kindness and generosity.\\n'\n",
      " '\\n'\n",
      " 'One day, a group of aliens from a neighboring planet, Xerxes, came to '\n",
      " 'Zephyria with the intention of taking over the planet and its resources. The '\n",
      " 'aliens were known for their ruthlessness and their desire for power.\\n'\n",
      " '\\n'\n",
      " 'The people of Zephyria were taken aback by the sudden invasion and were '\n",
      " 'unsure of how to defend themselves. They turned to their leader, a wise and '\n",
      " 'powerful being named Zephyr, for guidance.\\n'\n",
      " '\\n'\n",
      " 'Zephyr gathered the people of Zephyria and gave them a rousing speech, '\n",
      " 'inspiring them to stand up and fight for their planet. He told them that '\n",
      " 'they had the power within them to defeat the invaders and that they should '\n",
      " 'not be afraid to use it.\\n'\n",
      " '\\n'\n",
      " \"The people of Zephyria took Zephyr's words to heart and began to train and \"\n",
      " 'prepare for battle. They used their unique abilities and worked together to '\n",
      " 'create a plan to defeat the invaders.\\n'\n",
      " '\\n'\n",
      " 'The day of the battle arrived and the people of Zephyria fought bravely '\n",
      " 'against the invaders. They used their powers and their teamwork to outsmart '\n",
      " 'and outmaneuver the invaders, eventually driving them off the planet.\\n'\n",
      " '\\n'\n",
      " 'The people of Zephyria celebrated their victory and hailed Zephyr as a hero. '\n",
      " 'They knew that they had been able to defeat the invaders because of their '\n",
      " 'unity and their belief in themselves.\\n'\n",
      " '\\n'\n",
      " 'From that day on, the people of Zephyria lived in peace and prosperity, '\n",
      " 'always ready to defend their planet and their way of life. They were a '\n",
      " 'shining example of what can be achieved when people come together and '\n",
      " 'believe in themselves.')\n"
     ]
    }
   ],
   "source": [
    "import os\n",
    "from openai import OpenAI\n",
    "from pprint import pprint\n",
    "\n",
    "client = OpenAI(\n",
    "    api_key=os.environ[\"UPSTAGE_API_KEY\"], base_url=\"https://api.upstage.ai/v1/solar\"\n",
    ")\n",
    "chat_result = client.chat.completions.create(\n",
    "    model=\"solar-1-mini-chat\",\n",
    "    messages=[\n",
    "        {\"role\": \"system\", \"content\": \"Once Upon a Time in A Galaxy Far, Far, Away ...\"},\n",
    "    ],\n",
    ")\n",
    "\n",
    "pprint(chat_result.choices[0].message.content)"
   ]
  },
  {
   "cell_type": "code",
   "execution_count": 5,
   "metadata": {},
   "outputs": [
    {
     "name": "stdout",
     "output_type": "stream",
     "text": [
      "('Yes, I can help you with that. Seoul is a city with many beautiful places to '\n",
      " 'visit. Here are some popular places for sightseeing in Seoul:\\n'\n",
      " '\\n'\n",
      " '1. Gyeongbokgung Palace: This is the largest and most famous palace in '\n",
      " \"Seoul, and it's a great place to learn about Korean history and culture.\\n\"\n",
      " '2. Bukchon Hanok Village: This is a traditional Korean village with narrow '\n",
      " \"streets and beautiful hanok houses. It's a great place to take photos and \"\n",
      " 'experience traditional Korean culture.\\n'\n",
      " '3. Namsan Tower: This is a tower located on Namsan Mountain, and it offers '\n",
      " 'great views of the city. You can take a cable car to the top or hike up the '\n",
      " 'mountain.\\n'\n",
      " '4. Myeong-dong: This is a popular shopping and dining district in the heart '\n",
      " \"of Seoul. It's a great place to try Korean street food and shop for \"\n",
      " 'souvenirs.\\n'\n",
      " '5. Hongdae: This is a trendy neighborhood known for its street art, indie '\n",
      " \"music scene, and vibrant nightlife. It's a great place to experience the \"\n",
      " 'youth culture of Seoul.\\n'\n",
      " '\\n'\n",
      " 'These are just a few examples of the many great places to visit in Seoul. I '\n",
      " 'hope this helps!')\n"
     ]
    }
   ],
   "source": [
    "chat_result = client.chat.completions.create(\n",
    "    model=\"solar-1-mini-chat\",\n",
    "    messages=[\n",
    "        {\"role\": \"system\", \"content\": \"Can you tell me good place to vision in Seoul?\"},\n",
    "    ],\n",
    ")\n",
    "\n",
    "pprint(chat_result.choices[0].message.content)"
   ]
  },
  {
   "cell_type": "markdown",
   "metadata": {},
   "source": [
    "![Langchain](figures/langchain.jpg)\n",
    "\n",
    "https://python.langchain.com/v0.1/docs/integrations/providers/upstage/"
   ]
  },
  {
   "cell_type": "code",
   "execution_count": 6,
   "metadata": {},
   "outputs": [
    {
     "data": {
      "text/plain": [
       "AIMessage(content=\"The best season to get to Korean depends on your personal preferences and goals. Here are some factors to consider when deciding when to start learning Korean:\\n\\n1. Time commitment: Learning a new language requires a significant time commitment, so it's essential to choose a time when you have enough free time to dedicate to studying. If you're busy with work or school, you may want to wait until you have more free time.\\n2. Motivation: It's essential to have a strong motivation to learn Korean. If you have a specific goal in mind, such as traveling to Korea or communicating with Korean friends, this can help keep you motivated and focused.\\n3. Resources: The availability of resources can also impact when you start learning Korean. If you live in an area with a large Korean community or have access to Korean language classes or tutors, you may want to start learning sooner rather than later.\\n4. Learning style: Different people have different learning styles, and some may find it easier to learn a new language during certain seasons. For example, some people may find it easier to focus during the summer when they have more free time, while others may prefer to learn during the winter when they have more indoor time.\\n\\nUltimately, the best season to get to Korean is when you feel ready and motivated to start learning. With dedication and practice, you can make progress in learning Korean at any time of year.\", response_metadata={'token_usage': {'completion_tokens': 299, 'prompt_tokens': 21, 'total_tokens': 320}, 'model_name': 'solar-1-mini-chat', 'system_fingerprint': None, 'finish_reason': 'stop', 'logprobs': None}, id='run-6f113e3e-7027-4b5e-8e15-e16e356c8e2b-0')"
      ]
     },
     "execution_count": 6,
     "metadata": {},
     "output_type": "execute_result"
    }
   ],
   "source": [
    "# Quick hello world\n",
    "from langchain_upstage import ChatUpstage\n",
    "\n",
    "llm = ChatUpstage()\n",
    "llm.invoke(\"What's the best season to get to Korean?\")"
   ]
  },
  {
   "cell_type": "code",
   "execution_count": 7,
   "metadata": {},
   "outputs": [
    {
     "data": {
      "text/plain": [
       "(1, 4096)"
      ]
     },
     "execution_count": 7,
     "metadata": {},
     "output_type": "execute_result"
    }
   ],
   "source": [
    "from langchain_upstage import UpstageEmbeddings\n",
    "\n",
    "embeddings_model = UpstageEmbeddings(model=\"solar-embedding-1-large\")\n",
    "embeddings = embeddings_model.embed_documents(\n",
    "    [\n",
    "        \"Whay is the best season to visit Korea?\",\n",
    "    ])\n",
    "\n",
    "len(embeddings), len(embeddings[0])"
   ]
  }
 ],
 "metadata": {
  "kernelspec": {
   "display_name": ".venv",
   "language": "python",
   "name": "python3"
  },
  "language_info": {
   "codemirror_mode": {
    "name": "ipython",
    "version": 3
   },
   "file_extension": ".py",
   "mimetype": "text/x-python",
   "name": "python",
   "nbconvert_exporter": "python",
   "pygments_lexer": "ipython3",
   "version": "3.11.7"
  }
 },
 "nbformat": 4,
 "nbformat_minor": 2
}
