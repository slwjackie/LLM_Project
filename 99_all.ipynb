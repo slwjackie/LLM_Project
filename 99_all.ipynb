{
 "cells": [
  {
   "cell_type": "markdown",
   "metadata": {},
   "source": [
    "# Upstage Full Stack LLM with Langchain\n",
    "## Code to Understand!\n",
    "![Overview](./figures/overview.png)"
   ]
  },
  {
   "cell_type": "code",
   "execution_count": 1,
   "metadata": {},
   "outputs": [],
   "source": [
    "! pip3 install -qU guardrails-ai openai langchain_community langchain_experimental langchain-upstage sentence-transformers langchainhub langchain-chroma langchain matplotlib python-dotenv tavily-python ragas faiss-cpu tokenizers "
   ]
  },
  {
   "cell_type": "code",
   "execution_count": 2,
   "metadata": {},
   "outputs": [],
   "source": [
    "import warnings\n",
    "\n",
    "warnings.filterwarnings(\"ignore\")"
   ]
  },
  {
   "cell_type": "markdown",
   "metadata": {},
   "source": [
    "## UPSTAGE_API_KEY\n",
    "To obtain your Upstage API key, follow these steps:\n",
    "\n",
    "1. Visit the Upstage AI console at <https://console.upstage.ai>.\n",
    "2. Sign up for an account if you don't already have one.\n",
    "3. Log in to your account.\n",
    "4. Navigate to the API key section.\n",
    "5. Generate your API key.\n",
    "6. Copy the key and save it securely.\n",
    "\n",
    "![Console](./figures/console.upstage.ai.jpg)"
   ]
  },
  {
   "cell_type": "code",
   "execution_count": 3,
   "metadata": {},
   "outputs": [],
   "source": [
    "# Set .env and define these:\n",
    "# UPSTAGE_API_KEY from https://console.upstage.ai/\n",
    "# TAVILY_API_KEY https://app.tavily.com\n",
    "# NEWS_API_KEY from https://newsapi.org/\n",
    "\n",
    "%load_ext dotenv\n",
    "%dotenv\n"
   ]
  },
  {
   "cell_type": "markdown",
   "metadata": {},
   "source": [
    "## Interacting with the Solar-1-mini-chat Model\n",
    "\n",
    "This Python code demonstrates how to use the OpenAI API to interact with the Solar-1-mini-chat model provided by Upstage AI.\n",
    "\n",
    "### Steps\n",
    "\n",
    "1. Import necessary libraries: `os`, `openai`, and `pprint`.\n",
    "2. Set up the OpenAI client with the API key and base URL.\n",
    "3. Create a chat completion request using `client.chat.completions.create()`.\n",
    "   - Specify the model: \"solar-1-mini-chat\".\n",
    "   - Provide a list of messages, including the system message and user message.\n",
    "4. Handle the model's response:\n",
    "   - Print the entire response using `pprint()`.\n",
    "   - Print the content of the assistant's message using `response.choices[0].message.content`."
   ]
  },
  {
   "cell_type": "code",
   "execution_count": 4,
   "metadata": {},
   "outputs": [
    {
     "name": "stdout",
     "output_type": "stream",
     "text": [
      "ChatCompletion(id='14820259-41e5-4619-a6b2-9370b067b2a6', choices=[Choice(finish_reason='stop', index=0, logprobs=None, message=ChatCompletionMessage(content=\"Ah, Korea! A fascinating country with a rich history and vibrant culture. I've had the opportunity to visit both North and South Korea, and I must say, they are two very different places.\\n\\nSouth Korea is a modern, high-tech society with a thriving economy. It's known for its K-pop music, dramas, and delicious food like kimchi and bulgogi. The people are warm and friendly, and the city of Seoul is a bustling metropolis filled with skyscrapers, shopping districts, and beautiful temples.\\n\\nNorth Korea, on the other hand, is a more mysterious and enigmatic place. It's a heavily controlled society with a unique political system. While I was there, I was struck by the grandiose statues and monuments dedicated to the country's leaders, as well as the propaganda posters that adorn the streets. The people I met were curious about the outside world but cautious due to the isolation imposed by their government.\\n\\nBoth Koreas have a deep respect for their history and traditions, which is evident in their architecture, art, and customs. Despite the political tension between the two countries, I believe that understanding and appreciation for each other's cultures can help bridge the gap and promote peace.\", role='assistant', function_call=None, tool_calls=None))], created=1715886871, model='solar-1-mini-chat-240502', object='chat.completion', system_fingerprint=None, usage=CompletionUsage(completion_tokens=279, prompt_tokens=26, total_tokens=305))\n",
      "Message only:\n",
      "('Ah, Korea! A fascinating country with a rich history and vibrant culture. '\n",
      " \"I've had the opportunity to visit both North and South Korea, and I must \"\n",
      " 'say, they are two very different places.\\n'\n",
      " '\\n'\n",
      " \"South Korea is a modern, high-tech society with a thriving economy. It's \"\n",
      " 'known for its K-pop music, dramas, and delicious food like kimchi and '\n",
      " 'bulgogi. The people are warm and friendly, and the city of Seoul is a '\n",
      " 'bustling metropolis filled with skyscrapers, shopping districts, and '\n",
      " 'beautiful temples.\\n'\n",
      " '\\n'\n",
      " 'North Korea, on the other hand, is a more mysterious and enigmatic place. '\n",
      " \"It's a heavily controlled society with a unique political system. While I \"\n",
      " 'was there, I was struck by the grandiose statues and monuments dedicated to '\n",
      " \"the country's leaders, as well as the propaganda posters that adorn the \"\n",
      " 'streets. The people I met were curious about the outside world but cautious '\n",
      " 'due to the isolation imposed by their government.\\n'\n",
      " '\\n'\n",
      " 'Both Koreas have a deep respect for their history and traditions, which is '\n",
      " 'evident in their architecture, art, and customs. Despite the political '\n",
      " 'tension between the two countries, I believe that understanding and '\n",
      " \"appreciation for each other's cultures can help bridge the gap and promote \"\n",
      " 'peace.')\n"
     ]
    }
   ],
   "source": [
    "import os\n",
    "from openai import OpenAI\n",
    "from pprint import pprint\n",
    "\n",
    "client = OpenAI(\n",
    "    api_key=os.environ[\"UPSTAGE_API_KEY\"], base_url=\"https://api.upstage.ai/v1/solar\"\n",
    ")\n",
    "chat_result = client.chat.completions.create(\n",
    "    model=\"solar-1-mini-chat\",\n",
    "    messages=[\n",
    "        {\"role\": \"system\", \"content\": \"You are a helpful assistant.\"},\n",
    "        {\"role\": \"user\", \"content\": \"What about Korea?\"},\n",
    "    ],\n",
    ")\n",
    "pprint(chat_result)\n",
    "print(\"Message only:\")\n",
    "pprint(chat_result.choices[0].message.content)"
   ]
  },
  {
   "cell_type": "markdown",
   "metadata": {},
   "source": [
    "## Using Few-Shot Examples in Chat Completions\n",
    "\n",
    "This Python code demonstrates how to use few-shot examples in the OpenAI Chat Completions API to provide context and guide the model's responses.\n",
    "\n",
    "### Steps\n",
    "\n",
    "1. Set up the OpenAI client with the API key and base URL.\n",
    "2. Create a chat completion request using `client.chat.completions.create()`.\n",
    "   - Specify the model: \"solar-1-mini-chat\".\n",
    "   - Provide a list of messages, including:\n",
    "     - System message: Defines the assistant's role.\n",
    "     - Few-shot examples: Provide context and desired behavior.\n",
    "     - User input: The actual user query.\n",
    "3. Handle the model's response:\n",
    "   - Print the entire response using `pprint()`.\n",
    "   - Print the content of the assistant's message using `response.choices[0].message.content`."
   ]
  },
  {
   "cell_type": "code",
   "execution_count": 5,
   "metadata": {},
   "outputs": [
    {
     "name": "stdout",
     "output_type": "stream",
     "text": [
      "ChatCompletion(id='25e81bf2-d160-416f-b947-8a0ee5167c4a', choices=[Choice(finish_reason='stop', index=0, logprobs=None, message=ChatCompletionMessage(content=\"Oh, I know that too! It's Seoul!!\", role='assistant', function_call=None, tool_calls=None))], created=1715886874, model='solar-1-mini-chat-240502', object='chat.completion', system_fingerprint=None, usage=CompletionUsage(completion_tokens=17, prompt_tokens=55, total_tokens=72))\n",
      "Message only:\n",
      "\"Oh, I know that too! It's Seoul!!\"\n"
     ]
    }
   ],
   "source": [
    "# few shots: examples or history\n",
    "chat_result = client.chat.completions.create(\n",
    "    model=\"solar-1-mini-chat\",\n",
    "    messages=[\n",
    "        {\"role\": \"system\", \"content\": \"You are a helpful assistant.\"},\n",
    "        # examples\n",
    "        {\"role\": \"user\", \"content\": \"What is the capital of France?\"},\n",
    "        {\n",
    "            \"role\": \"assistant\",\n",
    "            \"content\": \"I know of it. It's Paris!!\",\n",
    "        },\n",
    "        # user input\n",
    "        {\"role\": \"user\", \"content\": \"What about Korea?\"},\n",
    "    ],\n",
    ")\n",
    "pprint(chat_result)\n",
    "print(\"Message only:\")\n",
    "pprint(chat_result.choices[0].message.content)"
   ]
  },
  {
   "cell_type": "markdown",
   "metadata": {},
   "source": [
    "## Building LLM Applications with LangChain\n",
    "\n",
    "This Python code demonstrates how to use the LangChain library to build applications with Large Language Models (LLMs). It covers the basic steps of defining an LLM, creating a chat prompt, defining a chain, and invoking the chain.\n",
    "\n",
    "### Steps\n",
    "\n",
    "1. Define your favorite LLM:\n",
    "   - Import the `ChatUpstage` class from `langchain_upstage`.\n",
    "   - Create an instance of `ChatUpstage` and assign it to the variable `llm`.\n",
    "\n",
    "2. Define a chat prompt:\n",
    "   - Import the `ChatPromptTemplate` class from `langchain_core.prompts`.\n",
    "   - Create a `ChatPromptTemplate` instance using the `from_messages()` method.\n",
    "   - Provide a list of messages, including system messages, example conversations, and user input.\n",
    "\n",
    "3. Define a chain:\n",
    "   - Import the `StrOutputParser` class from `langchain_core.output_parsers`.\n",
    "   - Create a chain by combining the `rag_with_history_prompt`, `llm`, and `StrOutputParser()` using the pipe (`|`) operator.\n",
    "\n",
    "4. Invoke the chain:\n",
    "   - Call the `invoke()` method on the `chain` object, passing an empty dictionary (`{}`) as the input.\n",
    "   - Print the response obtained from the chain."
   ]
  },
  {
   "cell_type": "code",
   "execution_count": 6,
   "metadata": {},
   "outputs": [
    {
     "data": {
      "text/plain": [
       "AIMessage(content=\"Hello! I'm an AI and don't have feelings, but I'm here to assist you with any questions or tasks you may have. How can I help you today?\", response_metadata={'token_usage': {'completion_tokens': 42, 'prompt_tokens': 16, 'total_tokens': 58}, 'model_name': 'solar-1-mini-chat', 'system_fingerprint': None, 'finish_reason': 'stop', 'logprobs': None}, id='run-8264b408-f27f-40ea-bdaa-c4afffa58bce-0')"
      ]
     },
     "execution_count": 6,
     "metadata": {},
     "output_type": "execute_result"
    }
   ],
   "source": [
    "# Quick hello world\n",
    "from langchain_upstage import ChatUpstage\n",
    "\n",
    "llm = ChatUpstage()\n",
    "llm.invoke(\"Hello, how are you?\")"
   ]
  },
  {
   "cell_type": "code",
   "execution_count": 7,
   "metadata": {},
   "outputs": [
    {
     "name": "stdout",
     "output_type": "stream",
     "text": [
      "Oh, that's a good one! It's Seoul!!\n"
     ]
    }
   ],
   "source": [
    "# langchain, 1. llm define, 2. prompt define, 3. chain, 4. chain.invoke\n",
    "\n",
    "# 1. define your favorate llm, solar\n",
    "from langchain_upstage import ChatUpstage\n",
    "\n",
    "llm = ChatUpstage()\n",
    "\n",
    "# 2. define chat prompt\n",
    "from langchain_core.prompts import ChatPromptTemplate\n",
    "\n",
    "rag_with_history_prompt = ChatPromptTemplate.from_messages(\n",
    "    [\n",
    "        (\"system\", \"You are a helpful assistant.\"),\n",
    "        (\"human\", \"What is the capital of France?\"),\n",
    "        (\"ai\", \"I know of it. It's Paris!!\"),\n",
    "        (\"human\", \"What about Korea?\"),\n",
    "    ]\n",
    ")\n",
    "\n",
    "# 3. define chain\n",
    "from langchain_core.output_parsers import StrOutputParser\n",
    "\n",
    "chain = rag_with_history_prompt | llm | StrOutputParser()\n",
    "\n",
    "# 4. invoke the chain\n",
    "c_result = chain.invoke({})\n",
    "print(c_result)"
   ]
  },
  {
   "cell_type": "markdown",
   "metadata": {},
   "source": [
    "## Parameterized Prompt Templates in LangChain\n",
    "\n",
    "### Overview\n",
    "\n",
    "- Prompt templates allow for reusable and modular prompts\n",
    "- They improve maintainability compared to using raw prompt strings\n",
    "- {country} value can be set from outside"
   ]
  },
  {
   "cell_type": "code",
   "execution_count": 8,
   "metadata": {},
   "outputs": [
    {
     "name": "stdout",
     "output_type": "stream",
     "text": [
      "I know of it. It's Seoul!!\n",
      "---\n",
      "I know of it. It's Tokyo!!\n"
     ]
    }
   ],
   "source": [
    "# parameterized prompt template\n",
    "rag_with_history_prompt = ChatPromptTemplate.from_messages(\n",
    "    [\n",
    "        (\"system\", \"You are a helpful assistant.\"),\n",
    "        (\"human\", \"What is the capital of France?\"),\n",
    "        (\"ai\", \"I know of it. It's Paris!!\"),\n",
    "        (\"human\", \"What about {country}?\"),\n",
    "    ]\n",
    ")\n",
    "\n",
    "chain = rag_with_history_prompt | llm | StrOutputParser()\n",
    "\n",
    "# 4. invoke chain with param\n",
    "print(chain.invoke({\"country\": \"Korea\"}))\n",
    "print(\"---\")\n",
    "print(chain.invoke({\"country\": \"Japan\"}))"
   ]
  },
  {
   "cell_type": "markdown",
   "metadata": {},
   "source": [
    "## Leveraging Message History in LangChain Prompts\n",
    "\n",
    "- LangChain provides powerful tools for managing conversation history\n",
    "- `MessagesPlaceholder` allows for dynamic inclusion of message history\n",
    "- `HumanMessage` and `AIMessage` classes represent individual messages\n",
    "- Combining message history with user input enables context-aware responses"
   ]
  },
  {
   "cell_type": "code",
   "execution_count": 9,
   "metadata": {},
   "outputs": [
    {
     "name": "stdout",
     "output_type": "stream",
     "text": [
      "Oh, that's a good one! It's Seoul!!\n"
     ]
    }
   ],
   "source": [
    "from langchain_core.prompts import ChatPromptTemplate, MessagesPlaceholder\n",
    "\n",
    "# More general chat\n",
    "rag_with_history_prompt = ChatPromptTemplate.from_messages(\n",
    "    [\n",
    "        (\"system\", \"You are a helpful assistant.\"),\n",
    "        MessagesPlaceholder(variable_name=\"history\"),\n",
    "        (\"human\", \"{input}\"),\n",
    "    ]\n",
    ")\n",
    "\n",
    "from langchain_core.messages import AIMessage, HumanMessage\n",
    "\n",
    "history = [\n",
    "    HumanMessage(\"What is the capital of France?\"),\n",
    "    AIMessage(\"It's Paris!!\"),\n",
    "]\n",
    "\n",
    "chain = rag_with_history_prompt | llm | StrOutputParser()\n",
    "chain_result = chain.invoke({\"history\": history, \"input\": \"What about Korea?\"})\n",
    "print(chain_result)"
   ]
  },
  {
   "cell_type": "markdown",
   "metadata": {},
   "source": [
    "![Hallucination](./figures/hallucination.png)"
   ]
  },
  {
   "cell_type": "code",
   "execution_count": 10,
   "metadata": {},
   "outputs": [
    {
     "data": {
      "text/plain": [
       "AIMessage(content='Upstage DUS technique is a type of ultrasound technique used to visualize the blood flow in the arteries and veins of the upper extremities, such as the arms and hands. It stands for \"Doppler ultrasound\" and is used to evaluate the blood flow in the vessels, detect any blockages or narrowing, and assess the overall health of the circulatory system. The \"Upstage\" part of the name refers to the position of the patient during the procedure, where they are asked to raise their arm above their head to improve the visualization of the vessels.', response_metadata={'token_usage': {'completion_tokens': 127, 'prompt_tokens': 18, 'total_tokens': 145}, 'model_name': 'solar-1-mini-chat', 'system_fingerprint': None, 'finish_reason': 'stop', 'logprobs': None}, id='run-8e8dd2a2-25e2-433a-8872-199549e21ed0-0')"
      ]
     },
     "execution_count": 10,
     "metadata": {},
     "output_type": "execute_result"
    }
   ],
   "source": [
    "# Cannot say \"I don't know\" :-)\n",
    "# Because it is trained to complete the sentence and try to answer the question\n",
    "llm.invoke(\"What is Upstage DUS technique?\")"
   ]
  },
  {
   "cell_type": "markdown",
   "metadata": {},
   "source": [
    "## RAG\n",
    "Provide context and allow the language model to respond within that context only.\n",
    "![Overview](./figures/rag.png)"
   ]
  },
  {
   "cell_type": "markdown",
   "metadata": {},
   "source": [
    "# Leveraging Layout Analyzer and LangChain for Efficient Text Splitting and Vectorization\n",
    "\n",
    "- Upstage Layout Analyzer extracts layouts, tables, and figures from any document\n",
    "- LangChain provides powerful tools for text splitting and vectorization\n",
    "![Layout Analyzer](./figures/la.png)"
   ]
  },
  {
   "cell_type": "code",
   "execution_count": 11,
   "metadata": {},
   "outputs": [],
   "source": [
    "from langchain_upstage import (\n",
    "    UpstageLayoutAnalysisLoader,\n",
    "    UpstageGroundednessCheck,\n",
    "    ChatUpstage,\n",
    "    UpstageEmbeddings,\n",
    ")\n",
    "from langchain_chroma import Chroma\n",
    "from langchain.text_splitter import RecursiveCharacterTextSplitter\n",
    "\n",
    "\n",
    "layzer = UpstageLayoutAnalysisLoader(\"pdfs/solar_paper.pdf\", output_type=\"html\")\n",
    "# For improved memory efficiency, consider using the lazy_load method to load documents page by page.\n",
    "docs = layzer.load()  # or layzer.lazy_load()"
   ]
  },
  {
   "cell_type": "code",
   "execution_count": 12,
   "metadata": {},
   "outputs": [
    {
     "name": "stdout",
     "output_type": "stream",
     "text": [
      "(\"<p id='0' style='font-size:20px'>SOLAR 10.7B: Scaling Large Language Models \"\n",
      " 'with Simple yet Effectiv')\n"
     ]
    }
   ],
   "source": [
    "for doc in docs:\n",
    "    pprint(doc.page_content[:100])"
   ]
  },
  {
   "cell_type": "code",
   "execution_count": 13,
   "metadata": {},
   "outputs": [
    {
     "data": {
      "text/html": [
       "<p id='0' style='font-size:20px'>SOLAR 10.7B: Scaling Large Language Models with Simple yet Effective<br>Depth Up-Scaling</p><br><p id='1' style='font-size:18px'>Dahyun Kim ∗ , Chanjun Park ∗† , Sanghoon Kim ∗† , Wonsung Lee ∗† , Wonho Song ∗<br>Yunsu Kim ∗ , Hyeonwoo Kim ∗ , Yungi Kim, Hyeonju Lee, Jihoo Kim<br>Changbae Ahn, Seonghoon Yang, Sukyung Lee, Hyunbyung Park, Gyoungjin Gim<br>Mikyoung Cha, Hwalsuk Lee † , Sunghun Kim †</p><br><p id='2' style='font-size:18px'>Upstage AI, South Korea</p><br><p id='3' style='font-size:14px'>{kdahyun, chanjun.park, limerobot, wonsung.lee, hwalsuk.lee, hunkim}@upstage.ai</p><br><p id='4' style='font-size:20px'>Abstract</p><br><p id='5' style='font-size:16px'>We introduce SOLAR 10.7B, a large language<br>model (LLM) with 10.7 billion parameters,<br>demonstrating superior performance in various<br>natural language processing (NLP) tasks. In-<br>spired by recent efforts to efficiently up-scale<br>LLMs, we present a method for scaling LLMs<br>called "
      ],
      "text/plain": [
       "<IPython.core.display.HTML object>"
      ]
     },
     "metadata": {},
     "output_type": "display_data"
    }
   ],
   "source": [
    "from IPython.display import display, HTML\n",
    "\n",
    "display(HTML(docs[0].page_content[:1000]))"
   ]
  },
  {
   "cell_type": "markdown",
   "metadata": {},
   "source": [
    "## Retrieval Augmented Generation (RAG) for Question Answering\n",
    "\n",
    "- RAG combines retrieval and generation to enhance LLM performance on specific tasks\n",
    "- Relevant context is retrieved from external data sources and added to the prompt\n",
    "- The augmented prompt is then passed to the LLM for generating a response\n",
    "- RAG is particularly useful for question answering on custom datasets"
   ]
  },
  {
   "cell_type": "code",
   "execution_count": 14,
   "metadata": {},
   "outputs": [
    {
     "name": "stdout",
     "output_type": "stream",
     "text": [
      "RESPONSE1\n",
      " The performance comparison amongst the merge candidates is presented in Table 6. The table shows the scores for the H6 average and individual tasks for two models named 'Cand. 1' and 'Cand. 2'. 'Cand. 1' has high GSM8K scores but relatively low scores for the other tasks, while 'Cand. 2' has low scores for GSM8K but high scores for the other tasks.\n"
     ]
    }
   ],
   "source": [
    "# More general chat\n",
    "rag_with_history_prompt = ChatPromptTemplate.from_messages(\n",
    "    [\n",
    "        (\n",
    "            \"system\",\n",
    "            \"\"\"\n",
    "You are an assistant for question-answering tasks. \n",
    "Use the following pieces of retrieved context to answer the question considering the history of the conversation. \n",
    "If you don't know the answer, just say that you don't know. \n",
    "---\n",
    "CONTEXT:\n",
    "{context}\n",
    "         \"\"\",\n",
    "        ),\n",
    "        MessagesPlaceholder(variable_name=\"history\"),\n",
    "        (\"human\", \"{input}\"),\n",
    "    ]\n",
    ")\n",
    "\n",
    "from langchain_core.messages import AIMessage, HumanMessage\n",
    "\n",
    "history = []\n",
    "\n",
    "chain = rag_with_history_prompt | llm | StrOutputParser()\n",
    "query1 = \"Performance comparison amongst the merge candidate\"\n",
    "response1 = chain.invoke({\"history\": history, \"context\": docs, \"input\": query1})\n",
    "print(\"RESPONSE1\\n\", response1)"
   ]
  },
  {
   "cell_type": "code",
   "execution_count": 15,
   "metadata": {},
   "outputs": [
    {
     "name": "stdout",
     "output_type": "stream",
     "text": [
      "RESPONSE2\n",
      " The ablation studies are presented in Tables 3, 4, and 5.\n",
      "\n",
      "Table 3 presents ablation studies on the different datasets used for instruction tuning. The table shows the scores for the H6 average and individual tasks for four ablated models: 'SFT v1', 'SFT v2', 'SFT v3', and 'SFT v4'. 'SFT v1' uses only the Alpaca-GPT4 dataset, 'SFT v2' uses both Alpaca-GPT4 and OpenOrca datasets, 'SFT v3' uses Synth. Math-Instruct dataset along with the datasets used in 'SFT v2', and 'SFT v4' uses Synth. Math-Instruct dataset along with the datasets used in 'SFT v1'. The table also shows the scores for 'SFT v3 + v4', which is the model merged from 'SFT v3' and 'SFT v4' by simply averaging the model weights.\n",
      "\n",
      "Table 4 presents ablation studies on the different datasets used during the direct preference optimization (DPO) stage. The table shows the scores for the H6 average and individual tasks for two ablated models: 'DPO v1' and 'DPO v2'. 'DPO v1' uses only the Ultrafeedback Clean dataset, while 'DPO v2' uses both Ultrafeedback Clean and Synth. Math-Alignment datasets. The table also shows the scores for 'DPO v1 + v2', which is the model merged from 'DPO v1' and 'DPO v2' by simply averaging the model weights.\n",
      "\n",
      "Table 5 presents ablation studies on the different SFT base models used during the direct preference optimization (DPO) stage. The table shows the scores for the H6 average and individual tasks for two ablated models: 'DPO v2' and 'DPO v3'. 'DPO v2' uses 'SFT v3' as the SFT base model, while 'DPO v3' uses 'SFT v3 + v4' as the SFT base model. The table also shows the scores for 'DPO v1+v2', which is the model merged from 'DPO v1' and 'DPO v2' by simply averaging the model weights.\n"
     ]
    }
   ],
   "source": [
    "history = [HumanMessage(query1), AIMessage(response1)]\n",
    "query2 = \"How about Ablation studies?\"\n",
    "response2 = chain.invoke({\"history\": history, \"context\": docs, \"input\": query2})\n",
    "print(\"RESPONSE2\\n\", response2)"
   ]
  },
  {
   "cell_type": "code",
   "execution_count": 19,
   "metadata": {},
   "outputs": [],
   "source": [
    "# Let's load something big\n",
    "layzer = UpstageLayoutAnalysisLoader(\n",
    "    \"pdfs/kim-tse-2008.pdf\", output_type=\"html\", use_ocr=True\n",
    ")\n",
    "# For improved memory efficiency, consider using the lazy_load method to load documents page by page.\n",
    "docs = layzer.load()  # or layzer.load()"
   ]
  },
  {
   "cell_type": "markdown",
   "metadata": {},
   "source": [
    "###  RAG Limitations\n",
    "- LLM does not have long enough context length\n",
    "- Sending long, irrelevant info is inefficient"
   ]
  },
  {
   "cell_type": "code",
   "execution_count": 20,
   "metadata": {},
   "outputs": [
    {
     "name": "stdout",
     "output_type": "stream",
     "text": [
      "Error code: 400 - {'error': {'message': \"This model's maximum context length is 32768 tokens. However, your messages resulted in 34256 tokens. Please reduce the length of the messages.\", 'type': 'invalid_request_error', 'param': 'messages', 'code': 'context_length_exceeded'}}\n"
     ]
    }
   ],
   "source": [
    "chain = rag_with_history_prompt | llm | StrOutputParser()\n",
    "query1 = \"What is bug classification?\"\n",
    "\n",
    "try:\n",
    "    response1 = chain.invoke({\"history\": history, \"context\": docs, \"input\": query1})\n",
    "    print(response1)\n",
    "except Exception as e:\n",
    "    print(e)"
   ]
  },
  {
   "cell_type": "code",
   "execution_count": 21,
   "metadata": {},
   "outputs": [
    {
     "name": "stdout",
     "output_type": "stream",
     "text": [
      "101558\n"
     ]
    }
   ],
   "source": [
    "print(len(docs[0].page_content))"
   ]
  },
  {
   "cell_type": "code",
   "execution_count": 22,
   "metadata": {},
   "outputs": [],
   "source": [
    "from tokenizers import Tokenizer\n",
    "\n",
    "tokenizer = Tokenizer.from_pretrained(\"upstage/solar-1-mini-tokenizer\")"
   ]
  },
  {
   "cell_type": "code",
   "execution_count": 23,
   "metadata": {},
   "outputs": [
    {
     "name": "stdout",
     "output_type": "stream",
     "text": [
      "Encoded input: ['<|startoftext|>', '▁Nice', '▁to', '▁meet', '▁you', '.', '▁I', '▁am', '▁Solar', '▁LL', 'M', ',', '▁a', '▁large', '▁language', '▁model', '▁developed', '▁by', '▁Up', 'stage', '.', '▁If', '▁you', '▁have', '▁any', '▁questions', ',', '▁please', '▁feel', '▁free', '▁to', '▁ask', '.']\n",
      "Number of tokens: 33\n"
     ]
    }
   ],
   "source": [
    "text = \"Nice to meet you. I am Solar LLM, a large language model developed by Upstage. If you have any questions, please feel free to ask.\"\n",
    "\n",
    "enc = tokenizer.encode(text)\n",
    "print(\"Encoded input:\", enc.tokens)\n",
    "\n",
    "number_of_tokens = len(enc.tokens)\n",
    "print(\"Number of tokens:\", number_of_tokens)"
   ]
  },
  {
   "cell_type": "code",
   "execution_count": 24,
   "metadata": {},
   "outputs": [
    {
     "name": "stdout",
     "output_type": "stream",
     "text": [
      "Encoded input: ['<|startoftext|>', '▁만나', '서', '▁반가', '워', '요', '.', '▁저는', '▁Up', 'stage', '에서', '▁개발한', '▁대규모', '▁언어', '▁모델', '인', '▁Solar', '▁LL', 'M', '▁입니다', '.', '▁궁금한', '▁것이', '▁있으', '시면', '▁무엇이', '든', '▁물어', '보세요', '.']\n",
      "Number of tokens: 30\n"
     ]
    }
   ],
   "source": [
    "text = \"만나서 반가워요. 저는 Upstage에서 개발한 대규모 언어 모델인 Solar LLM 입니다. 궁금한 것이 있으시면 무엇이든 물어보세요.\"\n",
    "enc = tokenizer.encode(text)\n",
    "print(\"Encoded input:\", enc.tokens)\n",
    "\n",
    "number_of_tokens = len(enc.tokens)\n",
    "print(\"Number of tokens:\", number_of_tokens)"
   ]
  },
  {
   "cell_type": "code",
   "execution_count": 25,
   "metadata": {},
   "outputs": [
    {
     "name": "stdout",
     "output_type": "stream",
     "text": [
      "Encoded input: ['<|startoftext|>', '▁만나', '서', '▁반가', '워', '요', '.', '▁저는', '▁Up', 'stage', '에서', '▁개발한', '▁대규모', '▁언어', '▁모델', '인', '▁Solar', '▁LL', 'M', '▁입니다', '.', '▁궁금한', '▁것이', '▁있으', '시면', '▁무엇이', '든', '▁물어', '보세요', '.']\n",
      "Number of tokens: 30\n"
     ]
    }
   ],
   "source": [
    "enc = tokenizer.encode(text)\n",
    "print(\"Encoded input:\", enc.tokens)\n",
    "\n",
    "number_of_tokens = len(enc.tokens)\n",
    "print(\"Number of tokens:\", number_of_tokens)"
   ]
  },
  {
   "cell_type": "code",
   "execution_count": 26,
   "metadata": {},
   "outputs": [],
   "source": [
    "def num_of_tokens(text):\n",
    "    return len(tokenizer.encode(text).tokens)"
   ]
  },
  {
   "cell_type": "code",
   "execution_count": 27,
   "metadata": {},
   "outputs": [
    {
     "name": "stdout",
     "output_type": "stream",
     "text": [
      "ENG 33\n",
      "KOR 30\n"
     ]
    }
   ],
   "source": [
    "print(\n",
    "    \"ENG\",\n",
    "    num_of_tokens(\n",
    "        \"Nice to meet you. I am Solar LLM, a large language model developed by Upstage. If you have any questions, please feel free to ask.\"\n",
    "    ),\n",
    ")\n",
    "print(\n",
    "    \"KOR\",\n",
    "    num_of_tokens(\n",
    "        \"만나서 반가워요. 저는 Upstage에서 개발한 대규모 언어 모델인 Solar LLM 입니다. 궁금한 것이 있으시면 무엇이든 물어보세요.\"\n",
    "    ),\n",
    ")"
   ]
  },
  {
   "cell_type": "code",
   "execution_count": 28,
   "metadata": {},
   "outputs": [
    {
     "name": "stdout",
     "output_type": "stream",
     "text": [
      "String length 101558\n",
      "Number of tokens 33294\n"
     ]
    }
   ],
   "source": [
    "# Recall\n",
    "# Let's load something big\n",
    "# layzer = UpstageLayoutAnalysisLoader(\"pdfs/kim-tse-2008.pdf\", output_type=\"html\")\n",
    "# For improved memory efficiency, consider using the lazy_load method to load documents page by page.\n",
    "# docs = layzer.load()  # or layzer.lazy_load()\n",
    "print(\"String length\", len(docs[0].page_content))\n",
    "print(\"Number of tokens\", num_of_tokens(docs[0].page_content))"
   ]
  },
  {
   "cell_type": "markdown",
   "metadata": {},
   "source": [
    "## Efficient Text Splitting and Indexing with LangChain\n",
    "\n",
    "### 1. Load Documents\n",
    "\n",
    "The first step is to load the source documents that will be used to augment the language model's knowledge\n",
    "This could be done by reading files from disk, pulling from a database, scraping web pages, etc.\n",
    "The goal is to get the raw text content into a format that can be further processed\n",
    "\n",
    "### 2. Chunking/Splitting\n",
    "\n",
    "* Long documents need to be broken down into smaller chunks that are a manageable size for embedding and retrieval\n",
    "Common approaches include:\n",
    "  * Fixed-size chunking - split text into equal sized chunks based on character or token count \n",
    "  * Semantic chunking - split based on semantic boundaries like sentences, paragraphs, or sections\n",
    "  * Hierarchical chunking - create chunks at multiple levels of granularity\n",
    "The ideal chunk size depends on the embedding model, retrieval use case, and downstream task\n",
    "\n",
    "### 3. Embedding & Indexing\n",
    "\n",
    "* The text chunks are converted to vector embeddings using a model like Upstage embeddings\n",
    "* The embeddings are indexed and stored in a vector database to enable efficient similarity search \n",
    "* Metadata about the source chunks can also be stored alongside the embeddings\n",
    "\n",
    "### 4. Retrieval\n",
    "\n",
    "* At query time, the user's question is itself embedded as a query vector\n",
    "* The query embedding is used to find the most similar document chunks in the vector index \n",
    "* Top-k most relevant chunks are retrieved and can be used to augment the prompt sent to the language model to generate an answer"
   ]
  },
  {
   "cell_type": "code",
   "execution_count": 29,
   "metadata": {},
   "outputs": [
    {
     "name": "stdout",
     "output_type": "stream",
     "text": [
      "Splits: 122\n"
     ]
    }
   ],
   "source": [
    "# RAG 1. load doc (done), 2. chunking, splits, 3. embeding - indexing, 4. retrieve\n",
    "\n",
    "# 2. Split\n",
    "text_splitter = RecursiveCharacterTextSplitter(chunk_size=1000, chunk_overlap=100)\n",
    "splits = text_splitter.split_documents(docs)\n",
    "print(\"Splits:\", len(splits))"
   ]
  },
  {
   "cell_type": "code",
   "execution_count": 30,
   "metadata": {},
   "outputs": [
    {
     "name": "stderr",
     "output_type": "stream",
     "text": [
      "Matplotlib is building the font cache; this may take a moment.\n"
     ]
    },
    {
     "data": {
      "image/png": "[encoded data removed]",
      "text/plain": [
       "<Figure size 640x480 with 1 Axes>"
      ]
     },
     "metadata": {},
     "output_type": "display_data"
    }
   ],
   "source": [
    "import matplotlib.pyplot as plt\n",
    "\n",
    "split_lengths = [len(split.page_content) for split in splits]\n",
    "\n",
    "# Create a bar graph\n",
    "plt.bar(range(len(split_lengths)), split_lengths)\n",
    "plt.title(\"RecursiveCharacterTextSplitter\")\n",
    "plt.xlabel(\"Split Index\")\n",
    "plt.ylabel(\"Split Content Length\")\n",
    "plt.xticks(range(len(split_lengths)), [])\n",
    "plt.show()"
   ]
  },
  {
   "cell_type": "code",
   "execution_count": 31,
   "metadata": {},
   "outputs": [
    {
     "name": "stdout",
     "output_type": "stream",
     "text": [
      "CPU times: user 1.95 s, sys: 2.18 s, total: 4.13 s\n",
      "Wall time: 25.9 s\n"
     ]
    }
   ],
   "source": [
    "%%time\n",
    "# 3. Embed & indexing\n",
    "vectorstore = Chroma.from_documents(documents=splits, embedding=UpstageEmbeddings(model=\"solar-embedding-1-large\"))"
   ]
  },
  {
   "cell_type": "code",
   "execution_count": 32,
   "metadata": {},
   "outputs": [
    {
     "name": "stdout",
     "output_type": "stream",
     "text": [
      "3\n",
      "among the source code and other<br>documents, while change classification tries to identify each<br>\n"
     ]
    }
   ],
   "source": [
    "# 4. retrive\n",
    "retriever = vectorstore.as_retriever(search_kwargs={\"k\": 3})\n",
    "result_docs = retriever.invoke(\"What is Bug Classification?\")\n",
    "print(len(result_docs))\n",
    "print(result_docs[0].page_content[:100])"
   ]
  },
  {
   "cell_type": "markdown",
   "metadata": {},
   "source": [
    "![Overview](./figures/semantic_chunker.png)"
   ]
  },
  {
   "cell_type": "code",
   "execution_count": 33,
   "metadata": {},
   "outputs": [],
   "source": [
    "# 2-2. SemanticChunker Split\n",
    "from langchain_community.utils.math import cosine_similarity\n",
    "from langchain.docstore.document import Document\n",
    "\n",
    "\n",
    "def semantic_chunker(\n",
    "    docs,\n",
    "    min_chunk_size=100,\n",
    "    chunk_overlap=10,\n",
    "    max_chunk_size=1000,\n",
    "    merge_threshold=0.7,\n",
    "    embeddings=UpstageEmbeddings(model=\"solar-embedding-1-large\"),\n",
    "):\n",
    "    text_splitter = RecursiveCharacterTextSplitter(\n",
    "        chunk_size=min_chunk_size, chunk_overlap=chunk_overlap\n",
    "    )\n",
    "    init_splits = text_splitter.split_documents(docs)\n",
    "    splits = []\n",
    "\n",
    "    base_split_text = None\n",
    "    base_split_emb = None\n",
    "    for split in init_splits:\n",
    "        if base_split_text is None:\n",
    "            base_split_text = split.page_content\n",
    "            base_split_emb = embeddings.embed_documents([base_split_text])[0]\n",
    "            continue\n",
    "\n",
    "        split_emb = embeddings.embed_documents([split.page_content])[0]\n",
    "        distance = cosine_similarity(X=[base_split_emb], Y=[split_emb])\n",
    "        if (\n",
    "            distance[0][0] < merge_threshold\n",
    "            or len(base_split_text) + len(split.page_content) > max_chunk_size\n",
    "        ):\n",
    "            splits.append(Document(page_content=base_split_text))\n",
    "            base_split_text = split.page_content\n",
    "            base_split_emb = split_emb\n",
    "        else:\n",
    "            base_split_text += split.page_content\n",
    "\n",
    "    if base_split_text:\n",
    "        splits.append(Document(page_content=base_split_text))\n",
    "\n",
    "    return splits"
   ]
  },
  {
   "cell_type": "markdown",
   "metadata": {},
   "source": [
    "## HuggingFaceEmbeddings\n",
    "Since it's just an approximation, it's acceptable to use very light embedding models like KLUE, https://huggingface.co/klue."
   ]
  },
  {
   "cell_type": "code",
   "execution_count": 34,
   "metadata": {},
   "outputs": [
    {
     "name": "stderr",
     "output_type": "stream",
     "text": [
      "No sentence-transformers model found with name klue/roberta-small. Creating a new one with MEAN pooling.\n",
      "Some weights of RobertaModel were not initialized from the model checkpoint at klue/roberta-small and are newly initialized: ['roberta.pooler.dense.bias', 'roberta.pooler.dense.weight']\n",
      "You should probably TRAIN this model on a down-stream task to be able to use it for predictions and inference.\n"
     ]
    },
    {
     "name": "stdout",
     "output_type": "stream",
     "text": [
      "CPU times: user 2.48 s, sys: 6.01 s, total: 8.48 s\n",
      "Wall time: 3.39 s\n"
     ]
    }
   ],
   "source": [
    "%%time\n",
    "from langchain_community.embeddings import HuggingFaceEmbeddings\n",
    "hfembeddings = HuggingFaceEmbeddings(model_name=\"klue/roberta-small\")"
   ]
  },
  {
   "cell_type": "code",
   "execution_count": 35,
   "metadata": {},
   "outputs": [
    {
     "name": "stdout",
     "output_type": "stream",
     "text": [
      "SemanticChunker Splits: 227\n",
      "CPU times: user 18 s, sys: 1.74 s, total: 19.8 s\n",
      "Wall time: 19.7 s\n"
     ]
    }
   ],
   "source": [
    "%%time\n",
    "semantic_splits = semantic_chunker(docs,  merge_threshold=0.8, embeddings=hfembeddings)\n",
    "print(\"SemanticChunker Splits:\", len(semantic_splits))"
   ]
  },
  {
   "cell_type": "code",
   "execution_count": 36,
   "metadata": {},
   "outputs": [
    {
     "data": {
      "image/png": "[encoded data removed]",
      "text/plain": [
       "<Figure size 640x480 with 1 Axes>"
      ]
     },
     "metadata": {},
     "output_type": "display_data"
    }
   ],
   "source": [
    "import matplotlib.pyplot as plt\n",
    "\n",
    "split_lengths = [num_of_tokens(split.page_content) for split in semantic_splits]\n",
    "\n",
    "# Create a bar graph\n",
    "plt.bar(range(len(split_lengths)), split_lengths)\n",
    "plt.xlabel(\"Split Index\")\n",
    "plt.ylabel(\"Split Content Length\")\n",
    "plt.title(\"Semantic Chunker Split Page Content Lengths\")\n",
    "plt.xticks(range(len(split_lengths)), [])\n",
    "plt.show()"
   ]
  },
  {
   "cell_type": "markdown",
   "metadata": {},
   "source": [
    "## ChromaParallel Class: Parallel Document Embedding\n",
    "The ChromaParallel class is an extension of the Chroma class to enable parallel processing of document embedding and storage using multiple worker processes."
   ]
  },
  {
   "cell_type": "code",
   "execution_count": 37,
   "metadata": {},
   "outputs": [],
   "source": [
    "import asyncio\n",
    "\n",
    "\n",
    "class ChromaParallel(Chroma):\n",
    "\n",
    "    async def afrom_documents(documents, embedding, num_workers=2):\n",
    "        db = Chroma(embedding_function=embedding)\n",
    "        # create list of num_workers empty lists\n",
    "        doc_groups = [[] for _ in range(num_workers)]\n",
    "\n",
    "        for i in range(len(documents)):\n",
    "            doc_groups[i % num_workers].append(documents[i])\n",
    "\n",
    "        tasks = [db.aadd_documents(group) for group in doc_groups]\n",
    "        await asyncio.gather(*tasks)\n",
    "        return db"
   ]
  },
  {
   "cell_type": "code",
   "execution_count": 38,
   "metadata": {},
   "outputs": [
    {
     "name": "stdout",
     "output_type": "stream",
     "text": [
      "page_content=\"among the source code and other<br>documents, while change classification tries to identify each<br>change as buggy or clean.</p><br><p id='48' style='font-size:18px'>Similar in spirit to change classification is work that<br>classifies bug reports or software maintenance requests [3],<br>[10]. In this research, keywords in bug reports or change<br>requests are extracted and used as features to train a<br>machine learning classifier. The goal of the classification is<br>to place a bug report into a specific category or to find the<br>developer best suited to fix a bug. This work, along with<br>change classification, highlights the potential of using<br>machine learning techniques in software engineering. If</p><p id='51' style='font-size:18px'>an existing concern such as assigning bugs to developers<br>can be recast as a classification problem, then it is possible<br>to leverage the large collection of data stored in bug<br>tracking and SCM systems.</p><br><p id='52'\" metadata={'split': 'none', 'total_pages': 16, 'type': 'html'}\n",
      "Wall time: 19.36 sec\n"
     ]
    }
   ],
   "source": [
    "import asyncio\n",
    "import time\n",
    "\n",
    "now = time.time()\n",
    "# 3. Embed & indexing\n",
    "loop = asyncio.get_event_loop()\n",
    "semantic_vectorstore = await ChromaParallel.afrom_documents(\n",
    "    documents=semantic_splits,\n",
    "    embedding=UpstageEmbeddings(model=\"solar-embedding-1-large\"),\n",
    "    num_workers=3,\n",
    ")\n",
    "semantic_retriever = semantic_vectorstore.as_retriever(search_kwargs={\"k\": 3})\n",
    "\n",
    "# 4. retrive\n",
    "result_docs = semantic_retriever.invoke(\"What is Bug Classification?\")\n",
    "print(result_docs[1])\n",
    "print(f\"Wall time: {time.time() - now:.2f} sec\")"
   ]
  },
  {
   "cell_type": "code",
   "execution_count": 39,
   "metadata": {},
   "outputs": [
    {
     "name": "stdout",
     "output_type": "stream",
     "text": [
      "Bug classification is a process in software engineering that involves categorizing software bugs based on their characteristics, such as the type of error, the component affected, or the severity of the issue. This process helps developers and testers to prioritize and manage bugs more effectively.\n",
      "\n",
      "The process of bug classification typically involves the following steps:\n",
      "\n",
      "1. **Identification**: The first step is to identify the bugs in the software. This can be done through various methods, such as manual testing, automated testing, or through user feedback.\n",
      "\n",
      "2. **Reporting**: Once a bug is identified, it is reported to the development team. The report should include a detailed description of the bug, the steps to reproduce it, and any relevant information that can help in understanding and fixing the issue.\n",
      "\n",
      "3. **Categorization**: The development team then categorizes the bugs based on their characteristics. This can be done using a bug tracking system or a spreadsheet. The categories can include the type of error (e.g., syntax error, logical error, runtime error), the component affected (e.g., user interface, database, network), or the severity of the issue (e.g., critical, high, medium, low).\n",
      "\n",
      "4. **Prioritization**: After categorizing the bugs, the development team prioritizes them based on their severity and impact on the software's functionality. This helps in determining which bugs should be fixed first.\n",
      "\n",
      "5. **Fixing and Verification**: The development team then fixes the bugs, starting with the highest priority ones. After fixing a bug, it is verified to ensure that it has been resolved correctly.\n",
      "\n",
      "6. **Closure**: Once all the bugs have been fixed and verified, they are closed in the bug tracking system.\n",
      "\n",
      "Bug classification is an essential part of the software development process as it helps in ensuring the quality of the software and improving the overall development process.\n"
     ]
    }
   ],
   "source": [
    "# Finally query using RAG\n",
    "query = \"What is bug classification? How it works?\"\n",
    "result_docs = semantic_retriever.invoke(query)\n",
    "\n",
    "gc_result = chain.invoke({\"history\": history, \"context\": result_docs, \"input\": query})\n",
    "print(gc_result)"
   ]
  },
  {
   "cell_type": "code",
   "execution_count": 40,
   "metadata": {},
   "outputs": [
    {
     "name": "stdout",
     "output_type": "stream",
     "text": [
      "Bug classification is beneficial for several reasons:\n",
      "\n",
      "1. **Improved Efficiency**: By categorizing and prioritizing bugs, development teams can focus their efforts on the most critical issues first, which can significantly improve the efficiency of the bug fixing process.\n",
      "\n",
      "2. **Better Communication**: A well-defined bug classification system helps in better communication between developers, testers, and stakeholders. It ensures that everyone involved in the process understands the nature and severity of the bugs.\n",
      "\n",
      "3. **Enhanced Quality**: By addressing bugs systematically, the overall quality of the software can be improved. This can lead to a more stable and reliable product, which can enhance the user experience and satisfaction.\n",
      "\n",
      "4. **Easier Tracking and Reporting**: A bug tracking system that includes a classification system makes it easier to track the progress of bug fixing and generate reports on the status of the bugs. This can be useful for project management and for demonstrating progress to stakeholders.\n",
      "\n",
      "5. **Reduced Risk**: By prioritizing and fixing critical bugs first, the risk of serious issues going unnoticed and affecting the software's performance or security can be reduced.\n",
      "\n",
      "6. **Better Resource Allocation**: By understanding the types of bugs that are most common in a particular software project, development teams can allocate resources more effectively to prevent similar bugs from occurring in the future.\n",
      "\n",
      "In summary, bug classification is a good practice because it helps in improving the efficiency of the bug fixing process, enhancing communication, improving software quality, facilitating tracking and reporting, reducing risk, and better resource allocation.\n"
     ]
    }
   ],
   "source": [
    "history = [HumanMessage(query), AIMessage(gc_result)]\n",
    "\n",
    "query = \"Why it is good?\"\n",
    "result_docs = semantic_retriever.invoke(query)\n",
    "\n",
    "gc_result = chain.invoke({\"history\": history, \"context\": result_docs, \"input\": query})\n",
    "print(gc_result)"
   ]
  },
  {
   "cell_type": "markdown",
   "metadata": {},
   "source": [
    "## RAG Evaluation using Ragas \n",
    "![ragas](figures/ragas.png)\n",
    "RAGAS is a framework that helps evaluate Retrieval Augmented Generation (RAG) pipelines. We generate questions from context and retrieve from a vector database. Then, we measure retrieval precision and recall.\n",
    "\n",
    "We use solar llm to create questions and to judge them as well."
   ]
  },
  {
   "cell_type": "code",
   "execution_count": 41,
   "metadata": {},
   "outputs": [
    {
     "name": "stdout",
     "output_type": "stream",
     "text": [
      "('{\"keyphrases\": [\"Software Changes\", \"Bug Prediction\", \"Machine Learning '\n",
      " 'Classification\", \"Software Configuration Management\", \"Support Vector '\n",
      " 'Machine\", \"Feature Extraction\", \"Classification Accuracy\", \"Buggy Change '\n",
      " 'Recall\", \"Evaluation Measures\", \"Related Work\", \"Software Evolution\", \"Bug '\n",
      " 'Prediction Technique\", \"Classification Experiments\", \"Performance '\n",
      " 'Evaluation\", \"Feature Importance\", \"Discussion\", \"Threats to Validity\", '\n",
      " '\"Conclusion\"]}')\n",
      "['What is the main goal of change classification, and how does it differ from '\n",
      " 'other bug prediction techniques in the research literature?',\n",
      " 'What is the main contribution of the paper \"Classifying Software Changes: '\n",
      " 'Clean or Buggy?\" and how does it differ from previous bug prediction '\n",
      " 'techniques?',\n",
      " 'What is the main goal of change classification, and how does it differ from '\n",
      " 'traditional bug prediction techniques?',\n",
      " 'What is the main objective of the change classification technique introduced '\n",
      " 'in the paper, and how does it differ from traditional bug prediction '\n",
      " 'techniques?',\n",
      " 'What is the main goal of change classification, and how does it differ from '\n",
      " 'traditional bug prediction techniques?',\n",
      " 'What is the main objective of change classification, and how does it differ '\n",
      " 'from traditional bug prediction techniques?',\n",
      " 'What is the main goal of change classification, and how does it differ from '\n",
      " 'other bug prediction techniques in terms of prediction granularity?',\n",
      " 'What is the main contribution of the change classification technique '\n",
      " 'introduced in the paper, and how does it differ from other bug prediction '\n",
      " 'techniques in the research literature?',\n",
      " 'What is the purpose of change classification in software development, and '\n",
      " 'how does it differ from other bug-finding techniques?',\n",
      " 'What is the main goal of change classification, and how does it differ from '\n",
      " 'traditional bug prediction techniques?']\n"
     ]
    }
   ],
   "source": [
    "# https://github.com/explodinggradients/ragas/blob/main/src/ragas/testset/prompts.py\n",
    "from ragas.testset.prompts import keyphrase_extraction_prompt, seed_question_prompt\n",
    "from langchain_core.prompts import PromptTemplate\n",
    "\n",
    "\n",
    "def generate_questions(docs, n=10):\n",
    "    questions = []\n",
    "    chain = llm | StrOutputParser()\n",
    "\n",
    "    # Extract keyphrases\n",
    "    context = docs[0].page_content[:10000]\n",
    "    ragas_prompt = keyphrase_extraction_prompt.format(text=context)\n",
    "    keyphrase_extraction_results = chain.invoke(ragas_prompt.prompt_str)\n",
    "    pprint(keyphrase_extraction_results)\n",
    "\n",
    "    for _ in range(n):\n",
    "        ragas_prompt = seed_question_prompt.format(\n",
    "            keyphrase=keyphrase_extraction_results, context=context\n",
    "        )\n",
    "        questions_results = chain.invoke(ragas_prompt.prompt_str)\n",
    "        questions.append(questions_results)\n",
    "    return questions\n",
    "\n",
    "\n",
    "questions = generate_questions(docs)\n",
    "pprint(questions)"
   ]
  },
  {
   "cell_type": "code",
   "execution_count": 42,
   "metadata": {},
   "outputs": [
    {
     "name": "stdout",
     "output_type": "stream",
     "text": [
      "split_lengths 122\n",
      "semantic_split_lengths 227\n"
     ]
    }
   ],
   "source": [
    "from langchain_community.vectorstores import FAISS\n",
    "\n",
    "print(\"split_lengths\", len(splits))\n",
    "print(\"semantic_split_lengths\", len(semantic_splits))\n",
    "\n",
    "# 124 VS 250\n",
    "\n",
    "size_vectorstore = FAISS.from_documents(\n",
    "    documents=splits, embedding=UpstageEmbeddings(model=\"solar-embedding-1-large\")\n",
    ")\n",
    "size_split_retriever = size_vectorstore.as_retriever(search_kwargs={\"k\": 3})\n",
    "\n",
    "semantic_vectorstore = await ChromaParallel.afrom_documents(\n",
    "    documents=semantic_splits,\n",
    "    embedding=UpstageEmbeddings(model=\"solar-embedding-1-large\"),\n",
    "    num_workers=3,\n",
    ")\n",
    "\n",
    "semantic_split_retriever = semantic_vectorstore.as_retriever(search_kwargs={\"k\": 6})"
   ]
  },
  {
   "cell_type": "code",
   "execution_count": 43,
   "metadata": {},
   "outputs": [],
   "source": [
    "from ragas.testset.evolutions import DataRow\n",
    "from ragas.testset.generator import TestsetGenerator, TestDataset\n",
    "from tqdm.notebook import tqdm\n",
    "from datasets import Dataset\n",
    "\n",
    "size_split_data = {\n",
    "    \"question\": [],\n",
    "    \"answer\": [],\n",
    "    \"contexts\": [],\n",
    "    \"ground_truth\": [],\n",
    "}\n",
    "semantic_split_data = {\n",
    "    \"question\": [],\n",
    "    \"answer\": [],\n",
    "    \"contexts\": [],\n",
    "    \"ground_truth\": [],\n",
    "}\n",
    "\n",
    "\n",
    "def fill_data(data, question, retr):\n",
    "    results = retr.invoke(question)\n",
    "    context = [doc.page_content for doc in results]\n",
    "\n",
    "    # chain = rag_with_history_prompt | llm | StrOutputParser()\n",
    "    # answer = chain.invoke({\"history\": [], \"context\": context, \"input\": question})\n",
    "\n",
    "    data[\"question\"].append(question)\n",
    "    data[\"answer\"].append(\"\")\n",
    "    data[\"contexts\"].append(context)\n",
    "    data[\"ground_truth\"].append(\"\")\n",
    "\n",
    "\n",
    "for question in questions:\n",
    "    fill_data(size_split_data, question, size_split_retriever)\n",
    "    fill_data(semantic_split_data, question, semantic_split_retriever)\n",
    "\n",
    "\n",
    "size_split_dataset = Dataset.from_dict(size_split_data)\n",
    "semantic_split_dataset = Dataset.from_dict(semantic_split_data)"
   ]
  },
  {
   "cell_type": "code",
   "execution_count": 44,
   "metadata": {},
   "outputs": [],
   "source": [
    "from ragas.metrics import (\n",
    "    answer_relevancy,\n",
    "    faithfulness,\n",
    "    context_recall,\n",
    "    context_precision,\n",
    ")\n",
    "from ragas import evaluate\n",
    "\n",
    "\n",
    "def ragas_evalate(dataset):\n",
    "    result = evaluate(\n",
    "        dataset,\n",
    "        metrics=[\n",
    "            context_precision,\n",
    "            context_recall,\n",
    "            # answer_relevancy,\n",
    "            # faithfulness,\n",
    "        ],\n",
    "        llm=llm,\n",
    "        embeddings=UpstageEmbeddings(model=\"solar-embedding-1-large\"),\n",
    "    )\n",
    "    return result"
   ]
  },
  {
   "cell_type": "code",
   "execution_count": 45,
   "metadata": {},
   "outputs": [
    {
     "name": "stderr",
     "output_type": "stream",
     "text": [
      "Evaluating:   0%|          | 0/20 [00:00<?, ?it/s]"
     ]
    },
    {
     "name": "stderr",
     "output_type": "stream",
     "text": [
      "Evaluating: 100%|██████████| 20/20 [00:10<00:00,  1.86it/s]\n"
     ]
    },
    {
     "name": "stdout",
     "output_type": "stream",
     "text": [
      "Size splits {'context_precision': 0.9167, 'context_recall': 1.0000}\n"
     ]
    },
    {
     "name": "stderr",
     "output_type": "stream",
     "text": [
      "Evaluating: 100%|██████████| 20/20 [00:16<00:00,  1.22it/s]\n"
     ]
    },
    {
     "name": "stdout",
     "output_type": "stream",
     "text": [
      "Semantic splits {'context_precision': 0.7729, 'context_recall': 1.0000}\n"
     ]
    }
   ],
   "source": [
    "print(\"Size splits\", ragas_evalate(size_split_dataset))\n",
    "print(\"Semantic splits\", ragas_evalate(semantic_split_dataset))"
   ]
  },
  {
   "cell_type": "markdown",
   "metadata": {},
   "source": [
    "## Explanation of the Code: Query Expander\n",
    "\n",
    "The provided code demonstrates a query expansion technique used in Retrieval Augmented Generation (RAG) systems. The main goal is to generate multiple variations of a given user query to retrieve relevant documents from a vector database more effectively. By generating different perspectives on the user query, the system aims to overcome some limitations of distance-based similarity search.\n",
    "\n",
    "The code defines a function called `query_expander` that takes a user query as input and returns a list of expanded queries. It uses three different query expansion templates:\n",
    "\n",
    "1. Multi Query: Generates five different versions of the user query to retrieve relevant documents from different perspectives.\n",
    "2. RAG-Fusion: Generates four related search queries based on the input query.\n",
    "3. Decomposition: Breaks down the input query into three sub-questions that can be answered in isolation.\n",
    "\n",
    "The expanded queries are generated using the LangChain library, specifically the `ChatUpstage` model, and the results are parsed using the `StrOutputParser`."
   ]
  },
  {
   "cell_type": "code",
   "execution_count": 46,
   "metadata": {},
   "outputs": [
    {
     "name": "stdout",
     "output_type": "stream",
     "text": [
      "['1. Can you explain the DUS methodology created by Upstage?',\n",
      " '2. What is the DUS approach developed by Upstage and how does it work?',\n",
      " '3. Can you provide an overview of the DUS technique developed by Upstage?',\n",
      " '4. How does the DUS approach developed by Upstage differ from other similar '\n",
      " 'methods?',\n",
      " '5. What are the key features of the DUS methodology developed by Upstage?',\n",
      " '1. \"DUS approach by Upstage: definition and explanation\"',\n",
      " '2. \"How does the DUS approach by Upstage work?\"',\n",
      " '3. \"Applications of the DUS approach developed by Upstage\"',\n",
      " '4. \"Comparing the DUS approach by Upstage with other similar methods\"',\n",
      " '1. What is the DUS approach in the context of Upstage?',\n",
      " '2. How does the DUS approach differ from other methods in its field?',\n",
      " '3. What are the key components and steps involved in the DUS approach '\n",
      " 'developed by Upstage?']\n"
     ]
    }
   ],
   "source": [
    "from langchain_upstage import ChatUpstage\n",
    "from langchain_core.output_parsers import StrOutputParser\n",
    "from langchain.prompts import ChatPromptTemplate\n",
    "\n",
    "\n",
    "def query_expander(query):\n",
    "    # Multi Query: Different Perspectives\n",
    "    multi_query_template = \"\"\"You are an AI language model assistant. Your task is to generate five \n",
    "    different versions of the given user question to retrieve relevant documents from a vector \n",
    "    database. By generating multiple perspectives on the user question, your goal is to help\n",
    "    the user overcome some of the limitations of the distance-based similarity search. \n",
    "    Provide these alternative questions separated by newlines. Original question: {query}\"\"\"\n",
    "\n",
    "    # RAG-Fusion: Related\n",
    "    rag_fusion_template = \"\"\"You are a helpful assistant that generates multiple search queries based on a single input query. \\n\n",
    "    Generate multiple search queries related to: {query} \\n\n",
    "    Output (4 queries):\"\"\"\n",
    "\n",
    "    # Decomposition\n",
    "    decomposition_template = \"\"\"You are a helpful assistant that generates multiple sub-questions related to an input question. \\n\n",
    "    The goal is to break down the input into a set of sub-problems / sub-questions that can be answers in isolation. \\n\n",
    "    Generate multiple search queries related to: {query} \\n\n",
    "    Output (3 queries):\"\"\"\n",
    "\n",
    "    query_expander_templates = [\n",
    "        multi_query_template,\n",
    "        rag_fusion_template,\n",
    "        decomposition_template,\n",
    "    ]\n",
    "\n",
    "    expanded_queries = []\n",
    "    for template in query_expander_templates:\n",
    "        prompt_perspectives = ChatPromptTemplate.from_template(template)\n",
    "\n",
    "        generate_queries = (\n",
    "            prompt_perspectives\n",
    "            | ChatUpstage(temperature=0)\n",
    "            | StrOutputParser()\n",
    "            | (lambda x: x.split(\"\\n\"))\n",
    "        )\n",
    "        expanded_queries += generate_queries.invoke({\"query\": query})\n",
    "\n",
    "    return expanded_queries\n",
    "\n",
    "\n",
    "expanded_queries = query_expander(\"What is the DUS approach developed by Upstage?\")\n",
    "pprint(expanded_queries)"
   ]
  },
  {
   "cell_type": "code",
   "execution_count": 47,
   "metadata": {},
   "outputs": [
    {
     "name": "stdout",
     "output_type": "stream",
     "text": [
      "Search for:  1. What is the process of categorizing bugs in software development?\n",
      "Search for:  2. How does bug classification benefit software development?\n",
      "Search for:  3. What are the different types of bugs and how are they classified?\n",
      "Search for:  4. What are the advantages of bug classification in software development?\n",
      "Search for:  5. How does bug classification help in identifying and fixing software issues?\n",
      "Search for:  1. \"Bug classification techniques\"\n",
      "Search for:  2. \"Importance of bug classification in software development\"\n",
      "Search for:  3. \"Bug classification tools and methodologies\"\n",
      "Search for:  4. \"Benefits of effective bug classification for software quality assurance\"\n",
      "Search for:  1. What is the definition of bug classification in software development?\n",
      "Search for:  2. What are the benefits of bug classification for software development teams?\n",
      "Search for:  3. How does bug classification contribute to efficient and effective software development processes?\n",
      "Search for:  What is bug classification? Why it is good?\n",
      "expended_result_docs 13\n",
      "Unique docs: 13\n",
      "Bug classification is a process in software development that involves categorizing software bugs based on their characteristics, such as the type of error, the component affected, or the severity of the issue. This process helps developers and testers to prioritize and manage bugs more effectively.\n",
      "\n",
      "The benefits of bug classification include:\n",
      "\n",
      "1. **Improved efficiency**: By categorizing and prioritizing bugs, developers can focus on the most critical issues first, which can help in reducing the time and effort required to fix all the bugs.\n",
      "\n",
      "2. **Better communication**: Bug classification provides a common language and framework for developers, testers, and other stakeholders to discuss and understand the bugs in the software.\n",
      "\n",
      "3. **Enhanced quality**: By identifying and fixing bugs early in the development process, bug classification can help in improving the overall quality of the software.\n",
      "\n",
      "4. **Improved customer satisfaction**: By addressing and fixing bugs in a timely and effective manner, bug classification can help in improving customer satisfaction and reducing the likelihood of negative reviews or feedback.\n",
      "\n",
      "5. **Better project management**: Bug classification can help in tracking the progress of bug fixing and identifying any trends or patterns in the types of bugs that are being encountered. This can help in improving the overall project management and ensuring that the software is delivered on time and within budget.\n",
      "\n",
      "In summary, bug classification is a good practice in software development as it helps in improving the efficiency, quality, and customer satisfaction of the software, while also providing better communication and project management.\n"
     ]
    }
   ],
   "source": [
    "# Finally query using RAG\n",
    "oroginal_query = \"What is bug classification? Why it is good?\"\n",
    "expanded_queries = query_expander(oroginal_query)\n",
    "expanded_queries.append(oroginal_query)\n",
    "\n",
    "expended_result_docs = []\n",
    "for query in expanded_queries:\n",
    "    print(\"Search for: \", query)\n",
    "    result_docs = retriever.invoke(query)\n",
    "    expended_result_docs.append(result_docs)\n",
    "\n",
    "# remove duplicates\n",
    "unique_docs = list(set(expanded_queries))\n",
    "print(\"expended_result_docs\", len(expended_result_docs))\n",
    "print(\"Unique docs:\", len(unique_docs))\n",
    "\n",
    "gc_result = chain.invoke(\n",
    "    {\"history\": history, \"context\": expanded_queries, \"input\": query}\n",
    ")\n",
    "print(gc_result)"
   ]
  },
  {
   "cell_type": "markdown",
   "metadata": {},
   "source": [
    "## Explanation of the Code: Smart Retrieval Augmented Generation (RAG)\n",
    "![smartRAG](./figures/a_in.png)\n",
    "\n",
    "### High-Level Overview\n",
    "\n",
    "The code demonstrates a smart Retrieval Augmented Generation (RAG) system that combines local retrieval with external search capabilities. The main goal is to provide relevant context for answering user questions by first searching a local vector database and then falling back to an external search service if the local context is insufficient.\n",
    "\n",
    "\n",
    "The code defines two main functions:\n",
    "\n",
    "\n",
    "  1. is_in: Determines whether the answer to a given question can be found within the provided context.\n",
    "smart_rag: Retrieves relevant context for a given question, either from the local vector database or an external search service, and generates an answer using the retrieved context.\n",
    "\n",
    "  1. The code uses the LangChain library for generating prompts and invoking language models, as well as the Tavily API for external search capabilities.\n",
    "\n",
    "\n",
    "### Detailed Explanation \n",
    "\n",
    "1. The code starts by defining the is_in function, which takes a question and context as input and determines whether the answer to the question can be found within the context.\n",
    "    * It defines a prompt template called is_in_conetxt that asks the language model to check if the answer is in the context and return \"yes\" or \"no\".\n",
    "    * The prompt template is used to create a ChatPromptTemplate object.\n",
    "    * A chain of operations is constructed using the | operator:\n",
    "      * The ChatPromptTemplate is passed to the ChatUpstage model.\n",
    "      * The model's output is parsed using the StrOutputParser.\n",
    "    * The chain is invoked with the question and context, and the response is stored in the response variable.\n",
    "    * The function returns True if the response starts with \"yes\" (case-insensitive), indicating that the answer is in the context.\n",
    "\n",
    "1. The code then demonstrates the usage of the is_in function with two example questions and their corresponding contexts retrieved from a retriever.\n",
    "\n",
    "1. Next, the code defines the smart_rag function, which takes a question as input and generates an answer using the retrieved context.\n",
    "    * It first retrieves the context for the question using the retriever.invoke method.\n",
    "    * If the is_in function determines that the answer is not in the retrieved context, it falls back to searching for additional context using the Tavily API.\n",
    "    * The retrieved context (either from the local retriever or Tavily) is stored in the context variable.\n",
    "    * A chain of operations is constructed using the | operator:\n",
    "      * The rag_with_history_prompt (not shown in the code snippet) is used as the prompt template.\n",
    "      * The prompt is passed to the llm language model.\n",
    "      * The model's output is parsed using the StrOutputParser.\n",
    "    * The chain is invoked with the conversation history, retrieved context, and the question, and the generated answer is returned.\n",
    "\n",
    "1. Finally, the code demonstrates the usage of the smart_rag function with two example questions:\n",
    "    * \"What is DUS?\": The answer is expected to be found in the local context.\n",
    "    * \"What's the population of San Francisco?\": The answer is not expected to be found in the local context, so it falls back to searching with Tavily.\n",
    "\n",
    "This code showcases how LangChain can be used to build a smart RAG system that combines local retrieval with external search capabilities. By first searching a local vector database and falling back to an external search service if needed, the system aims to provide relevant context for generating accurate answers to user questions."
   ]
  },
  {
   "cell_type": "code",
   "execution_count": 48,
   "metadata": {},
   "outputs": [],
   "source": [
    "# RAG or Search?\n",
    "def is_in(question, context):\n",
    "    is_in_conetxt = \"\"\" please determine if the context includes relevent information from the question. \n",
    "If the answer for the question is present in the context, please respond with \"yes\". \n",
    "If not, please respond with \"no\". \n",
    "Only provide \"yes\" or \"no\" and avoid including any additional information. \n",
    "Please do your best. Here is the question and the context:\n",
    "---\n",
    "CONTEXT: {context}\n",
    "---\n",
    "QUESTION: {question}\n",
    "---\n",
    "OUTPUT (yes or no):\"\"\"\n",
    "\n",
    "    is_in_prompt = PromptTemplate.from_template(is_in_conetxt)\n",
    "    chain = is_in_prompt | ChatUpstage() | StrOutputParser()\n",
    "\n",
    "    response = chain.invoke({\"history\": [], \"context\": context, \"question\": question})\n",
    "    print(response)\n",
    "    return response.lower().startswith(\"yes\")"
   ]
  },
  {
   "cell_type": "code",
   "execution_count": 49,
   "metadata": {},
   "outputs": [
    {
     "name": "stdout",
     "output_type": "stream",
     "text": [
      "no\n",
      "False\n"
     ]
    }
   ],
   "source": [
    "question = \"Can you tell me about Yi Sun-sin, a Korean admiral?\"\n",
    "context = semantic_split_retriever.invoke(question)\n",
    "print(is_in(question, context))"
   ]
  },
  {
   "cell_type": "code",
   "execution_count": 50,
   "metadata": {},
   "outputs": [
    {
     "name": "stdout",
     "output_type": "stream",
     "text": [
      "yes\n",
      "True\n"
     ]
    }
   ],
   "source": [
    "question = \"How bug classification works?\"\n",
    "context = semantic_split_retriever.invoke(question)\n",
    "print(is_in(question, context))"
   ]
  },
  {
   "cell_type": "code",
   "execution_count": 51,
   "metadata": {},
   "outputs": [],
   "source": [
    "# Smart RAG, Self-Improving RAG\n",
    "from tavily import TavilyClient\n",
    "\n",
    "\n",
    "def smart_rag(question):\n",
    "    context = retriever.invoke(question)\n",
    "    if not is_in(question, context):\n",
    "        print(\"Searching in tavily\")\n",
    "        tavily = TavilyClient(api_key=os.environ[\"TAVILY_API_KEY\"])\n",
    "        context = tavily.search(query=question)\n",
    "\n",
    "    chain = rag_with_history_prompt | llm | StrOutputParser()\n",
    "    return chain.invoke({\"history\": history, \"context\": context, \"input\": question})"
   ]
  },
  {
   "cell_type": "code",
   "execution_count": 52,
   "metadata": {},
   "outputs": [
    {
     "name": "stdout",
     "output_type": "stream",
     "text": [
      "no\n",
      "Searching in tavily\n"
     ]
    },
    {
     "data": {
      "text/plain": [
       "'Bug classification is a process in software engineering that involves categorizing software bugs based on their characteristics, such as the type of error, the component affected, or the severity of the issue. This process helps developers and testers to prioritize and manage bugs more effectively.'"
      ]
     },
     "execution_count": 52,
     "metadata": {},
     "output_type": "execute_result"
    }
   ],
   "source": [
    "question = \"bug classification?\"\n",
    "smart_rag(question)"
   ]
  },
  {
   "cell_type": "code",
   "execution_count": 53,
   "metadata": {},
   "outputs": [
    {
     "name": "stdout",
     "output_type": "stream",
     "text": [
      "no\n",
      "Searching in tavily\n"
     ]
    },
    {
     "data": {
      "text/plain": [
       "'Yi Sun-sin was a Korean admiral who lived during the 16th century. He is considered one of the greatest naval commanders in history and is revered in Korea for his contributions to the country\\'s defense against Japanese invasions.\\n\\nYi Sun-sin was born in 1545 in Korea during the Joseon Dynasty. He began his career as a military officer and eventually became a naval commander. In 1592, Japan invaded Korea, and Yi Sun-sin was appointed as the commander of the Korean navy. Despite being outnumbered and outgunned by the Japanese, Yi Sun-sin managed to defeat the Japanese navy in several key battles.\\n\\nOne of Yi Sun-sin\\'s most famous victories was at the Battle of Myeongnyang in 1597, where he led a small fleet of 13 ships to defeat a much larger Japanese fleet of over 130 ships. This victory is considered one of the greatest naval victories in history and is often compared to the Battle of Salamis and the Battle of Lepanto.\\n\\nYi Sun-sin\\'s success in battle was due in part to his innovative tactics and the use of a unique type of ship known as the \"turtle ship.\" The turtle ship was a type of armored warship that was heavily fortified with wooden planks and spikes to protect against boarding attacks. It also had a rotating cannon turret on its deck, which allowed it to fire in all directions.\\n\\nYi Sun-sin\\'s contributions to the defense of Korea against the Japanese invasions were significant, and he is still remembered and revered in Korea today. He is considered a national hero and is often depicted in Korean art, literature, and film.'"
      ]
     },
     "execution_count": 53,
     "metadata": {},
     "output_type": "execute_result"
    }
   ],
   "source": [
    "question = \"Can you tell me about Yi Sun-sin, a Korean admiral?\"\n",
    "smart_rag(question)"
   ]
  },
  {
   "cell_type": "markdown",
   "metadata": {},
   "source": [
    "## Groundedness Check with LangChain and Upstage\n",
    "![Groundedness](./figures/gc.png)\n",
    "### High-Level Overview\n",
    "\n",
    "The provided code demonstrates how to perform a groundedness check using the LangChain library and the Upstage model. The groundedness check is a process of verifying whether the generated response is grounded in the given context. This is an important step in ensuring the quality and relevance of the generated output.\n",
    "\n",
    "The code uses the `UpstageGroundednessCheck` class from the `langchain_upstage` module to perform the groundedness check. It takes the context (a string of unique documents) and the generated response as input, and returns a verdict indicating whether the response is grounded or not.\n",
    "\n",
    "### Detailed Explanation\n",
    "\n",
    "1. The code starts by importing the necessary module:\n",
    "   - `UpstageGroundednessCheck` from `langchain_upstage`: This class is used to perform the groundedness check.\n",
    "\n",
    "2. An instance of the `UpstageGroundednessCheck` class is created and assigned to the variable `groundedness_check`.\n",
    "\n",
    "3. The input for the groundedness check is prepared by creating a dictionary called `request_input`:\n",
    "   - The `\"context\"` key is assigned the value of `str(unique_docs)`, which represents the unique documents as a string.\n",
    "   - The `\"answer\"` key is assigned the value of `response`, which represents the generated response.\n",
    "\n",
    "4. The `invoke` method of the `groundedness_check` instance is called with the `request_input` as an argument. This method performs the groundedness check and returns the verdict.\n",
    "\n",
    "5. The verdict is stored in the `response` variable and printed to the console using `print(response)`.\n",
    "\n",
    "6. The code then checks if the `response` starts with the word \"grounded\" (case-insensitive):\n",
    "   - If the response starts with \"grounded\", it means the groundedness check has passed, and the message \"✅ Groundedness check passed\" is printed.\n",
    "   - If the response does not start with \"grounded\", it means the groundedness check has failed, and the message \"❌ Groundedness check failed\" is printed.\n",
    "\n",
    "\n",
    "The provided code demonstrates a simple yet effective way to perform a groundedness check using LangChain and Upstage. By verifying whether the generated response is grounded in the given context, it helps ensure the quality and relevance of the output.\n",
    "\n",
    "Groundedness checks are an important step in building reliable and trustworthy language models and conversational agents. They help prevent the generation of irrelevant, inconsistent, or factually incorrect responses.\n",
    "\n",
    "By using the `UpstageGroundednessCheck` class from LangChain, developers can easily integrate groundedness checks into their language model pipelines and improve the overall performance of their systems."
   ]
  },
  {
   "cell_type": "code",
   "execution_count": 54,
   "metadata": {},
   "outputs": [
    {
     "name": "stdout",
     "output_type": "stream",
     "text": [
      "grounded\n",
      "✅ Groundedness check passed\n"
     ]
    }
   ],
   "source": [
    "# GC\n",
    "from langchain_upstage import UpstageGroundednessCheck\n",
    "\n",
    "groundedness_check = UpstageGroundednessCheck()\n",
    "\n",
    "context = \"DUS is a new approach developed by Upstage to improve the search quality.\"\n",
    "answer = \"DUS is developed by Upstage.\"\n",
    "\n",
    "request_input = {\n",
    "    \"context\": context,\n",
    "    \"answer\": answer,\n",
    "}\n",
    "gc_result = groundedness_check.invoke(request_input)\n",
    "\n",
    "print(gc_result)\n",
    "if gc_result.lower().startswith(\"grounded\"):\n",
    "    print(\"✅ Groundedness check passed\")\n",
    "else:\n",
    "    print(\"❌ Groundedness check failed\")"
   ]
  },
  {
   "cell_type": "code",
   "execution_count": 55,
   "metadata": {},
   "outputs": [
    {
     "name": "stdout",
     "output_type": "stream",
     "text": [
      "❌ Groundedness check failed\n"
     ]
    }
   ],
   "source": [
    "context = \"DUS is a new approach developed by Upstage to improve the search quality.\"\n",
    "answer = \"DUS is developed by Google.\"\n",
    "\n",
    "request_input = {\n",
    "    \"context\": context,\n",
    "    \"answer\": answer,\n",
    "}\n",
    "gc_result = groundedness_check.invoke(request_input)\n",
    "\n",
    "if gc_result.lower().startswith(\"grounded\"):\n",
    "    print(\"✅ Groundedness check passed\")\n",
    "else:\n",
    "    print(\"❌ Groundedness check failed\")"
   ]
  },
  {
   "cell_type": "markdown",
   "metadata": {},
   "source": [
    "https://docs.ragas.io/en/stable/getstarted/testset_generation.html"
   ]
  },
  {
   "cell_type": "markdown",
   "metadata": {},
   "source": [
    "## Custom Tools in LangChain\n",
    "\n",
    "### High-Level Overview\n",
    "\n",
    "The provided code demonstrates how to create custom tools in LangChain, a framework for developing applications powered by language models. Tools are essential components in LangChain that allow language models to perform specific tasks or access external resources.\n",
    "\n",
    "The code defines three custom tools:\n",
    "\n",
    "1. `add`: A tool that adds two integers.\n",
    "2. `multiply`: A tool that multiplies two integers.\n",
    "3. `get_news`: A tool that retrieves news articles on a given topic using an external API.\n",
    "\n",
    "These tools are then bound to a language model using the `bind_tools` method, enabling the model to utilize these tools when generating responses.\n",
    "\n",
    "### Detailed Explanation\n",
    "\n",
    "Let's break down the code and explain each part in detail:\n",
    "\n",
    "1. Importing necessary modules:\n",
    "   - `tool` from `langchain_core.tools`: This module provides the `@tool` decorator for defining custom tools.\n",
    "   - `requests`: A library for making HTTP requests to external APIs.\n",
    "\n",
    "2. Defining the `add` tool:\n",
    "   - The `@tool` decorator is used to define the `add` function as a custom tool.\n",
    "   - The function takes two integer parameters, `a` and `b`, and returns their sum.\n",
    "   - The docstring provides a brief description of the tool's functionality.\n",
    "\n",
    "3. Defining the `multiply` tool:\n",
    "   - Similar to the `add` tool, the `multiply` function is defined as a custom tool using the `@tool` decorator.\n",
    "   - It takes two integer parameters, `a` and `b`, and returns their product.\n",
    "   - The docstring describes the tool's purpose.\n",
    "\n",
    "4. Defining the `get_news` tool:\n",
    "   - The `get_news` function is defined as a custom tool using the `@tool` decorator.\n",
    "   - It takes a `topic` parameter of type `str` and returns news articles related to that topic.\n",
    "   - The function constructs a URL for the news API using the provided topic and an API key stored in an environment variable.\n",
    "   - It sends a GET request to the API using the `requests` library and returns the JSON response.\n",
    "\n",
    "5. Creating a list of tools:\n",
    "   - The `tools` list is created, containing the `add`, `multiply`, and `get_news` tools.\n",
    "   - This list will be used to bind the tools to the language model.\n",
    "\n",
    "6. Binding the tools to the language model:\n",
    "   - The `bind_tools` method of the `llm` object is called, passing the `tools` list as an argument.\n",
    "   - This step binds the custom tools to the language model, allowing it to utilize these tools when generating responses.\n",
    "   - The resulting object is assigned to the variable `llm_with_tools`.\n",
    "\n",
    "Conclusion\n",
    "\n",
    "The code demonstrates how to create custom tools in LangChain, which can be used to extend the capabilities of language models. By defining tools for specific tasks, such as mathematical operations or retrieving news articles, developers can enhance the functionality of their LangChain applications.\n",
    "\n",
    "The `@tool` decorator simplifies the process of defining custom tools, while the `bind_tools` method allows seamless integration of these tools with the language model.\n",
    "\n",
    "By leveraging custom tools, LangChain enables developers to build powerful and versatile applications that can perform a wide range of tasks beyond simple text generation.\n"
   ]
  },
  {
   "cell_type": "code",
   "execution_count": 56,
   "metadata": {},
   "outputs": [],
   "source": [
    "# Tools\n",
    "from langchain_core.tools import tool\n",
    "import requests\n",
    "\n",
    "\n",
    "@tool\n",
    "def add(a: int, b: int) -> int:\n",
    "    \"\"\"Adds a and b.\"\"\"\n",
    "    return a + b\n",
    "\n",
    "\n",
    "@tool\n",
    "def multiply(a: int, b: int) -> int:\n",
    "    \"\"\"Multiplies a and b.\"\"\"\n",
    "    return a * b\n",
    "\n",
    "\n",
    "@tool\n",
    "def get_news(topic: str) -> str:\n",
    "    \"\"\"Get news on a given topic.\"\"\"\n",
    "    # https://newsapi.org/v2/everything?q=tesla&from=2024-04-01&sortBy=publishedAt&apiKey=API_KEY\n",
    "    # change this to request news from a real API\n",
    "    news_url = f\"https://newsapi.org/v2/everything?q={topic}&apiKey={os.environ['NEWS_API_KEY']}\"\n",
    "    respnse = requests.get(news_url)\n",
    "    return respnse.json()\n",
    "\n",
    "\n",
    "tools = [add, multiply, get_news]\n",
    "\n",
    "llm_with_tools = llm.bind_tools(tools)"
   ]
  },
  {
   "cell_type": "code",
   "execution_count": 57,
   "metadata": {},
   "outputs": [],
   "source": [
    "def call_tool(tool_call):\n",
    "    tool_name = tool_call[\"name\"].lower()\n",
    "    if tool_name not in globals():\n",
    "        print(\"Tool not found\", tool_name)\n",
    "        return None\n",
    "    selected_tool = globals()[tool_name]\n",
    "    return selected_tool.invoke(tool_call[\"args\"])"
   ]
  },
  {
   "cell_type": "code",
   "execution_count": 58,
   "metadata": {},
   "outputs": [
    {
     "name": "stdout",
     "output_type": "stream",
     "text": [
      "[{'name': 'multiply', 'args': {'a': 3, 'b': 12}, 'id': 'ec91fb74-099c-4209-b7f2-6716944d9e69'}, {'name': 'add', 'args': {'a': 11, 'b': 49}, 'id': '7b5dddf6-4fb3-41f1-a2c2-77452ad3182b'}]\n"
     ]
    }
   ],
   "source": [
    "query = \"What is 3 * 12? Also, what is 11 + 49?\"\n",
    "\n",
    "tool_calls = llm_with_tools.invoke(query).tool_calls\n",
    "print(tool_calls)"
   ]
  },
  {
   "cell_type": "code",
   "execution_count": 59,
   "metadata": {},
   "outputs": [
    {
     "name": "stdout",
     "output_type": "stream",
     "text": [
      "36\n",
      "60\n"
     ]
    }
   ],
   "source": [
    "for tool_call in tool_calls:\n",
    "    print(call_tool(tool_call))"
   ]
  },
  {
   "cell_type": "code",
   "execution_count": 60,
   "metadata": {},
   "outputs": [
    {
     "name": "stdout",
     "output_type": "stream",
     "text": [
      "[{'name': 'get_news', 'args': {'topic': 'NewJeans'}, 'id': 'a7355a50-eb97-4bb8-b56d-6130e2108128'}]\n",
      "{'status': 'ok', 'totalResults': 323, 'articles': [{'source': {'id': 'the-verge', 'name': 'The Verge'}, 'author': 'Amrita Khalid', 'title': 'You don’t know your K-pop persona, do you?', 'description':\n"
     ]
    }
   ],
   "source": [
    "query = \"What's news on NewJeans?\"\n",
    "\n",
    "tool_calls = llm_with_tools.invoke(query).tool_calls\n",
    "print(tool_calls)\n",
    "\n",
    "for tool_call in tool_calls:\n",
    "    print(str(call_tool(tool_call))[:200])"
   ]
  },
  {
   "cell_type": "markdown",
   "metadata": {},
   "source": [
    "## Guardrails\n",
    "\n",
    "Guardrails is a Python framework that helps build reliable AI applications by performing two key tasks. It runs Input/Output Guards in your application to detect, measure, and reduce specific risks. See Guardrails Hub for the full list of risks. For more info, visit <https://www.guardrailsai.com/docs>.\n",
    "![Guardrails](./figures/gr.png)"
   ]
  },
  {
   "cell_type": "code",
   "execution_count": 61,
   "metadata": {},
   "outputs": [],
   "source": [
    "# https://github.com/guardrails-ai/validator-template/blob/main/validator/main.py\n",
    "from typing import Any, Callable, Dict, Optional\n",
    "from guardrails import OnFailAction\n",
    "from guardrails.validator_base import (\n",
    "    FailResult,\n",
    "    PassResult,\n",
    "    ValidationResult,\n",
    "    Validator,\n",
    "    register_validator,\n",
    ")\n",
    "\n",
    "\n",
    "@register_validator(name=\"guardrails/solar_validator\", data_type=\"string\")\n",
    "class SolarValidator(Validator):\n",
    "    \"\"\"Validates that {fill in how you validator interacts with the passed value}.\"\"\"\n",
    "\n",
    "    # If you don't have any init args, you can omit the __init__ method.\n",
    "    def __init__(\n",
    "        self,\n",
    "        keyword: str = \"solar\",\n",
    "        on_fail: Optional[Callable] = OnFailAction.EXCEPTION,\n",
    "    ):\n",
    "        super().__init__(on_fail=on_fail, keyword=keyword)\n",
    "        self._keyword = keyword\n",
    "\n",
    "    def validate(self, value: Any, metadata: Dict = {}) -> ValidationResult:\n",
    "        \"\"\"Validates that {fill in how you validator interacts with the passed value}.\"\"\"\n",
    "        # Add your custom validator logic here and return a PassResult or FailResult accordingly.\n",
    "        if self._keyword in str(value):\n",
    "            return PassResult()\n",
    "\n",
    "        return FailResult(\n",
    "            error_message=\"{A descriptive but concise error message about why validation failed}\",\n",
    "            fix_value=\"{The programmtic fix if applicable, otherwise remove this kwarg.}\",\n",
    "        )"
   ]
  },
  {
   "cell_type": "code",
   "execution_count": 62,
   "metadata": {},
   "outputs": [],
   "source": [
    "from guardrails import Guard\n",
    "\n",
    "guard = Guard().use(SolarValidator())"
   ]
  },
  {
   "cell_type": "code",
   "execution_count": 63,
   "metadata": {},
   "outputs": [
    {
     "data": {
      "text/plain": [
       "ValidationOutcome(raw_llm_output='solar llm is super great!', validated_output='solar llm is super great!', reask=None, validation_passed=True, error=None)"
      ]
     },
     "execution_count": 63,
     "metadata": {},
     "output_type": "execute_result"
    }
   ],
   "source": [
    "guard.parse(\"solar llm is super great!\")"
   ]
  },
  {
   "cell_type": "code",
   "execution_count": 64,
   "metadata": {},
   "outputs": [
    {
     "name": "stdout",
     "output_type": "stream",
     "text": [
      "Guard failed: Validation failed for field with errors: {A descriptive but concise error message about why validation failed}\n"
     ]
    }
   ],
   "source": [
    "try:\n",
    "    guard.parse(\"My favorite phone is BlackBerry.\")\n",
    "except Exception as e:\n",
    "    print(\"Guard failed:\", e)"
   ]
  },
  {
   "cell_type": "markdown",
   "metadata": {},
   "source": [
    "## 🚀 Exciting Excercise: Building Your Own AI-Powered Chatbot! 🤖\n",
    "\n",
    "### Introduction\n",
    "\n",
    "Congratulations on completing the course on building chatbots using Language Models (LLMs), Layout Analysis (LA), custom tools, and Groundedness Checks (GC)! It's time to put your skills to the test by creating your own AI-powered chatbot. 🎉\n",
    "\n",
    "### Objective\n",
    "\n",
    "Your task is to develop a chatbot that can perform various tasks based on user queries, such as:\n",
    "\n",
    "- 🎨 Drawing images based on user descriptions\n",
    "- 📰 Searching for the latest news on various topics\n",
    "- 📅 Checking and managing schedules\n",
    "- 📄 Extracting structured information from PDFs and images using Layout Analysis\n",
    "- 🌟 And more!\n",
    "\n",
    "### Requirements\n",
    "\n",
    "To create your chatbot, you'll need to leverage the following components:\n",
    "\n",
    "1. 🧠 Language Model (LLM): Use a powerful LLM to understand user queries and generate responses.\n",
    "\n",
    "2. 📊 Layout Analysis (LA): Utilize Layout Analysis techniques to extract structured information from PDFs and images.\n",
    "\n",
    "3. 🛠️ Custom Tools: Develop custom tools for specific actions like image generation, news search, and schedule management.\n",
    "\n",
    "4. ✅ Groundedness Check (GC): Implement a groundedness check to ensure relevant and accurate responses.\n",
    "\n",
    "## Conclusion\n",
    "\n",
    "This homework assignment is your opportunity to showcase your skills in building an AI-powered chatbot that can understand and process visual content using Layout Analysis. Have fun and be creative! 🚀\n",
    "\n",
    "Happy coding, and may your chatbot impress everyone! 😄"
   ]
  }
 ],
 "metadata": {
  "kernelspec": {
   "display_name": "Python 3",
   "language": "python",
   "name": "python3"
  },
  "language_info": {
   "codemirror_mode": {
    "name": "ipython",
    "version": 3
   },
   "file_extension": ".py",
   "mimetype": "text/x-python",
   "name": "python",
   "nbconvert_exporter": "python",
   "pygments_lexer": "ipython3",
   "version": "3.11.7"
  }
 },
 "nbformat": 4,
 "nbformat_minor": 2
}
